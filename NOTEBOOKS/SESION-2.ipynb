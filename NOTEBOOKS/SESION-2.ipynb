{
  "nbformat": 4,
  "nbformat_minor": 0,
  "metadata": {
    "colab": {
      "provenance": [],
      "authorship_tag": "ABX9TyNznQIPjepnKYBw3xAnh+Ad",
      "include_colab_link": true
    },
    "kernelspec": {
      "name": "python3",
      "display_name": "Python 3"
    },
    "language_info": {
      "name": "python"
    }
  },
  "cells": [
    {
      "cell_type": "markdown",
      "metadata": {
        "id": "view-in-github",
        "colab_type": "text"
      },
      "source": [
        "<a href=\"https://colab.research.google.com/github/jorloicono/AF-BIGDATA-PYTHON/blob/main/PR%C3%81CTICAS/PYTHON/SESI%C3%93N-2.ipynb\" target=\"_parent\"><img src=\"https://colab.research.google.com/assets/colab-badge.svg\" alt=\"Open In Colab\"/></a>"
      ]
    },
    {
      "cell_type": "markdown",
      "source": [
        "EJERCICIO 1: \n",
        "\n",
        "Escribir un programa que pregunte al usuario los números ganadores de la lotería primitiva (6 números), los almacene en una lista y los muestre por pantalla ordenados de menor a mayor.\n",
        "\n",
        "\n",
        "EJERCICIO 2: \n",
        "\n",
        "Escribir un programa que cree un diccionario vacío y lo vaya llenado con información sobre una persona (por ejemplo nombre, edad, sexo, teléfono, correo electrónico, etc.) que se le pida al usuario. Cada vez que se añada un nuevo dato debe imprimirse el contenido del diccionario."
      ],
      "metadata": {
        "id": "WMpPNrXe25u1"
      }
    },
    {
      "cell_type": "code",
      "source": [
        "lista=[]\n",
        "for i in range(6):\n",
        "  lista.append(int(input(\"Dime el número ganador: \")))\n",
        "lista.sort()\n",
        "print(\"Los numeros ganadores son \" + str(lista))"
      ],
      "metadata": {
        "colab": {
          "base_uri": "https://localhost:8080/"
        },
        "id": "OssJM0pd3WaK",
        "outputId": "dc10fdba-ba9c-4b5e-f364-29c38d8174dc"
      },
      "execution_count": null,
      "outputs": [
        {
          "output_type": "stream",
          "name": "stdout",
          "text": [
            "Dime el número ganador: 4\n",
            "Dime el número ganador: 6\n",
            "Dime el número ganador: 7\n",
            "Dime el número ganador: 5\n",
            "Dime el número ganador: 3\n",
            "Dime el número ganador: 2\n",
            "Los numeros ganadores son [2, 3, 4, 5, 6, 7]\n"
          ]
        }
      ]
    },
    {
      "cell_type": "code",
      "source": [
        "persona = {}\n",
        "continuar = True\n",
        "while continuar:\n",
        "  clave = input(\"¿Qué dato quieres introducir? \")\n",
        "  valor = input(clave + \": \")\n",
        "  persona[clave] = valor\n",
        "  print(persona)\n",
        "  continuar = input(\"¿Quieres añadir más información? \") == \"Si\"\n"
      ],
      "metadata": {
        "colab": {
          "base_uri": "https://localhost:8080/"
        },
        "id": "fnTNVFcLBga8",
        "outputId": "c3a7d1a6-0ed0-46ea-bb8f-de5b1b63f266"
      },
      "execution_count": null,
      "outputs": [
        {
          "name": "stdout",
          "output_type": "stream",
          "text": [
            "¿Qué dato quieres introducir?nombre\n",
            "nombre; jorge\n",
            "{'nombre': 'jorge'}\n",
            "¿Quieres añadir más información?Si\n",
            "¿Qué dato quieres introducir?pais\n",
            "pais; españa\n",
            "{'nombre': 'jorge', 'pais': 'españa'}\n",
            "¿Quieres añadir más información?Si\n",
            "¿Qué dato quieres introducir?provincia\n",
            "provincia; valencia\n",
            "{'nombre': 'jorge', 'pais': 'españa', 'provincia': 'valencia'}\n",
            "¿Quieres añadir más información?si\n"
          ]
        }
      ]
    },
    {
      "cell_type": "markdown",
      "source": [
        "PROGRAMACIÓN ORIENTADA A OBJETOS (POO)"
      ],
      "metadata": {
        "id": "b85K9ju6ECv4"
      }
    },
    {
      "cell_type": "code",
      "source": [
        "class Perro:\n",
        "  especie = \"Mamífero\"\n",
        "  def __init__(self, nombre, raza):\n",
        "    print(\"Creando perro \" + nombre + \", \" + raza)\n",
        "    self.nombre = nombre\n",
        "    self.raza = raza\n",
        "  def ladra(self):\n",
        "    print(\"Guau\")\n",
        "  def camina(self, pasos):\n",
        "    print(\"Caminando \" + str(pasos) + \" pasos\")\n",
        "\n",
        "mi_perro = Perro(\"Toby\", \"Bulldog\")\n",
        "mi_perro.ladra()\n",
        "mi_perro.camina(10)\n",
        "print(mi_perro.especie)"
      ],
      "metadata": {
        "colab": {
          "base_uri": "https://localhost:8080/"
        },
        "id": "0KJ1xPNiEB_0",
        "outputId": "82ae9117-c2bd-4f91-f11a-fcf46f79acda"
      },
      "execution_count": null,
      "outputs": [
        {
          "output_type": "stream",
          "name": "stdout",
          "text": [
            "Creando perro Toby, Bulldog\n",
            "Guau\n",
            "Caminando 10 pasos\n",
            "Mamífero\n"
          ]
        }
      ]
    },
    {
      "cell_type": "code",
      "source": [
        "# Crear una clase con constructor o inicializador\n",
        "class Persona:\n",
        "    \n",
        "    # constructor o inicializador\n",
        "    def __init__(self, nombre, edad) :\n",
        "        # atributos o propiedades publicas\n",
        "        self.nombre = nombre\n",
        "        self.edad = edad\n",
        "    \n",
        "    def mostrarInfo(self) :\n",
        "        print(\"Hola, me llamo\", self.nombre, \"y tengo\", self.edad, \"años\")        \n",
        "\n",
        "# Crear objetos de Persona\n",
        "juan = Persona(\"Juan\", 27)\n",
        "maria = Persona(\"Maria\", 35)\n",
        "\n",
        "# Invocar a los recursos de un objeto (objeto.recurso_publico)\n",
        "juan.mostrarInfo()\n",
        "maria.mostrarInfo()\n",
        "\n",
        "juan.edad = 28\n",
        "juan.mostrarInfo()"
      ],
      "metadata": {
        "colab": {
          "base_uri": "https://localhost:8080/"
        },
        "id": "tFqOUfKPGq68",
        "outputId": "f66948d1-76d1-4862-c616-b10fdb59f099"
      },
      "execution_count": null,
      "outputs": [
        {
          "output_type": "stream",
          "name": "stdout",
          "text": [
            "Hola, me llamo Juan y tengo 27 años\n",
            "Hola, me llamo Maria y tengo 35 años\n",
            "Hola, me llamo Juan y tengo 28 años\n"
          ]
        }
      ]
    },
    {
      "cell_type": "code",
      "source": [
        "class Direccion:\n",
        "  def __init__(self, calle, numero, poblacion):\n",
        "    self.calle = calle\n",
        "    self.numero= numero\n",
        "    self.poblacion = poblacion\n",
        "  def mostrar(self):\n",
        "    return self.calle + \", \" + str(self.numero) + \" (\" + self.poblacion + \")\"\n",
        "  \n",
        "class Persona:\n",
        "    def __init__(self, nombre, edad, direccion):\n",
        "      self.nombre = nombre\n",
        "      self.edad = edad\n",
        "      self.direccion = direccion\n",
        "    def mostrarInfo(self):\n",
        "      print(\"Hola, me llamo {}, tengo {} años y vivo en {}\".format(self.nombre, self.edad, self.direccion.mostrar()))\n",
        "\n",
        "dir = Direccion(\"Calle Mayor\", 5, \"Madrid\")\n",
        "\n",
        "juan = Persona(\"Juan\", 27, dir)\n",
        "\n",
        "juan.mostrarInfo()"
      ],
      "metadata": {
        "colab": {
          "base_uri": "https://localhost:8080/"
        },
        "id": "yme8UvBzHWWm",
        "outputId": "9ad765c0-caba-4a0d-c125-cfb501457f5a"
      },
      "execution_count": null,
      "outputs": [
        {
          "output_type": "stream",
          "name": "stdout",
          "text": [
            "Hola, me llamo Juan, tengo 27 años y vivo en Calle Mayor, 5 (Madrid)\n"
          ]
        }
      ]
    },
    {
      "cell_type": "code",
      "source": [
        "class Clase:\n",
        "  atributo_clase = \"Hola\"\n",
        "  __atributo_clase = \"Hola\"\n",
        "\n",
        "  def __init__(self, atributo_instancia):\n",
        "    self.atributo_instancia = atributo_instancia\n",
        "\n",
        "  def __mi_metodo(self):\n",
        "    print(\"Muy bien\")\n",
        "  \n",
        "  def metodo_normal(self):\n",
        "    self.__mi_metodo()\n",
        "\n",
        "mi_clase = Clase(\"Que tal\")\n",
        "mi_clase.metodo_normal()\n",
        "\n",
        "print(dir(mi_clase))\n",
        "\n",
        "mi_clase._Clase__mi_metodo()"
      ],
      "metadata": {
        "colab": {
          "base_uri": "https://localhost:8080/"
        },
        "id": "U0vGYDEqKP6A",
        "outputId": "ced3fa72-07ae-4bdc-a704-3300455bb9ce"
      },
      "execution_count": null,
      "outputs": [
        {
          "output_type": "stream",
          "name": "stdout",
          "text": [
            "Muy bien\n",
            "['_Clase__atributo_clase', '_Clase__mi_metodo', '__class__', '__delattr__', '__dict__', '__dir__', '__doc__', '__eq__', '__format__', '__ge__', '__getattribute__', '__gt__', '__hash__', '__init__', '__init_subclass__', '__le__', '__lt__', '__module__', '__ne__', '__new__', '__reduce__', '__reduce_ex__', '__repr__', '__setattr__', '__sizeof__', '__str__', '__subclasshook__', '__weakref__', 'atributo_clase', 'atributo_instancia', 'metodo_normal']\n",
            "Muy bien\n"
          ]
        }
      ]
    },
    {
      "cell_type": "code",
      "source": [
        "class Fecha:\n",
        "    def __init__(self, dia, mes, anyo):\n",
        "        self.setDia(dia)\n",
        "        self.setMes(mes)\n",
        "        self.setAnyo(anyo)\n",
        "    \n",
        "    def getDia(self):\n",
        "        return self.__dia\n",
        "    \n",
        "    def setDia(self, dia):\n",
        "        # los dias son entre 1 y 30\n",
        "        if dia > 0 and dia <= 30 :\n",
        "            self.__dia = dia\n",
        "        else :\n",
        "            self.__dia = 0\n",
        "            \n",
        "    def getMes(self):\n",
        "        return self.__mes\n",
        "    \n",
        "    def setMes(self, mes):\n",
        "        # los meses son entre 1 y 12\n",
        "        if mes > 0 and mes <= 12 :\n",
        "            self.__mes = mes\n",
        "        else :\n",
        "            self.__mes = 0\n",
        "            \n",
        "    def getAnyo(self):\n",
        "        return self.__anyo\n",
        "    \n",
        "    def setAnyo(self, anyo):\n",
        "        # Año valido si es 2022 y 2023\n",
        "        if anyo == 2022 or anyo == 2023 :\n",
        "            self.__anyo = anyo\n",
        "        else :\n",
        "            self.__anyo = 0\n",
        "            \n",
        "    def mostrar(self):\n",
        "        print(self.__dia, self.getMes(), self.__anyo, sep=\"/\")\n",
        "       "
      ],
      "metadata": {
        "id": "2gxV2oT4Mq1h"
      },
      "execution_count": null,
      "outputs": []
    },
    {
      "cell_type": "code",
      "source": [
        "class Animal:\n",
        "  def __init__(self, especie, edad):\n",
        "    self.especie = especie\n",
        "    self.edad = edad\n",
        "  \n",
        "  def hablar(self):\n",
        "    pass\n",
        "  \n",
        "  def moverse(self):\n",
        "    pass\n",
        "  \n",
        "  def describeme(self):\n",
        "    print(\"Soy un animal del tipo\", type(self).__name__)\n",
        "\n",
        "class Perro(Animal):\n",
        "  def hablar(self):\n",
        "    print(\"Guau\")\n",
        "  def moverse(self):\n",
        "    print(\"Caminando\")\n",
        "\n",
        "class Abeja(Animal):\n",
        "  def hablar(self):\n",
        "    print(\"Bzzzzz\")\n",
        "  def moverse(self):\n",
        "    print(\"Volando\")\n",
        "  def picar(self):\n",
        "    print(\"Picando\")\n",
        "\n",
        "\n",
        "mi_perro=Perro(\"mamífero\", 10)\n",
        "\n",
        "mi_perro.hablar()\n",
        "\n",
        "mi_abeja=Abeja(\"insecto\", 1)\n",
        "\n",
        "mi_abeja.describeme()\n",
        "\n",
        "mi_abeja.picar()"
      ],
      "metadata": {
        "colab": {
          "base_uri": "https://localhost:8080/"
        },
        "id": "DxwXax85Trn0",
        "outputId": "1651be3d-0ca1-4856-819d-bf745e59e137"
      },
      "execution_count": null,
      "outputs": [
        {
          "output_type": "stream",
          "name": "stdout",
          "text": [
            "Guau\n",
            "Soy un animal del tipo Abeja\n",
            "Picando\n"
          ]
        }
      ]
    },
    {
      "cell_type": "code",
      "source": [
        "class Vehiculo:\n",
        "    \n",
        "    def __init__(self, motor, velocidad):\n",
        "        self.__motor = motor # True o False\n",
        "        self.__velocidad = velocidad\n",
        "        \n",
        "    def isMotor(self):\n",
        "        return self.__motor\n",
        "    \n",
        "    def getVelocidad(self):\n",
        "        return self.__velocidad\n",
        "    \n",
        "    def arrancar(self):\n",
        "        print(\"Arrancando el vehiculo\")\n",
        "        \n",
        "    def parar(self):\n",
        "        print(\"Parando el vehiculo\")\n",
        "        \n",
        "    def info(self):\n",
        "        return \"Tiene motor: \" + str(self.__motor) + \" Velocidad: \" + str(self.__velocidad)\n",
        "  \n",
        "    \n",
        "class Coche(Vehiculo):\n",
        "    \n",
        "    def __init__(self, motor, velocidad, plazas, combustible):\n",
        "        super().__init__(motor, velocidad)\n",
        "        self.__plazas = plazas\n",
        "        self.__combustible = combustible\n",
        "        \n",
        "    def getPlazas(self):\n",
        "        return self.__plazas\n",
        "    \n",
        "    def getCombustible(self):\n",
        "        return self.__combustible\n",
        "    \n",
        "    def repostar(self):\n",
        "        print(\"El coche necesita repostar\")\n",
        "        \n",
        "    def info(self):\n",
        "        return super().info() + \" Plazas: \" + str(self.__plazas) + \" Combustible: \" + self.__combustible\n",
        "  \n",
        "coche = Coche(True, 200, 5, \"Gasolina\")\n",
        "print(coche.info())\n",
        "\n",
        "coche.repostar()\n",
        "coche.arrancar()"
      ],
      "metadata": {
        "colab": {
          "base_uri": "https://localhost:8080/"
        },
        "id": "97a-mBEGWvbh",
        "outputId": "d11c2285-cdd0-4a1b-c61a-e4084b8d07fa"
      },
      "execution_count": null,
      "outputs": [
        {
          "output_type": "stream",
          "name": "stdout",
          "text": [
            "Tiene motor: True Velocidad: 200 Plazas: 5 Combustible: Gasolina\n",
            "El coche necesita repostar\n",
            "Arrancando el vehiculo\n"
          ]
        }
      ]
    },
    {
      "cell_type": "code",
      "source": [
        "class Animal: \n",
        "  def __init__(self,nombre,edad):\n",
        "    self.__nombre = nombre\n",
        "    self.__edad = edad\n",
        "  def info(self):\n",
        "    return \"Nombre: \" + self.__nombre + \" Edad: \" + str(self.__edad)\n",
        "\n",
        "class Venta: \n",
        "  def __init__(self, codigo, precio):\n",
        "    self.__codigo = codigo\n",
        "    self.__precio = precio\n",
        "  def info(self):\n",
        "    return \" Codigo: \" + self.__codigo + \" Precio: \" + str(self.__precio)\n",
        "\n",
        "class Perro(Animal, Venta):\n",
        "  def __init__(self, nombre, edad, codigo, precio, vacunado, sexo):\n",
        "    Animal.__init__(self,nombre,edad)\n",
        "    Venta.__init__(self, codigo, precio)\n",
        "    self.__vacunado = vacunado\n",
        "    self.__sexo = sexo\n",
        "  \n",
        "  def info(self):\n",
        "    return Animal.info(self) + Venta.info(self) + \" Vacunado: \" + str(self.__vacunado) + \" Sexo: \" + self.__sexo\n",
        "\n",
        "perro = Perro(\"Fifi\", 4, \"PE-001\", 200, True, \"Macho\")\n",
        "\n",
        "print(perro.info())"
      ],
      "metadata": {
        "colab": {
          "base_uri": "https://localhost:8080/"
        },
        "id": "pxWgbePKYefk",
        "outputId": "d2a829aa-c2b6-4047-9af1-34e2ff75cec0"
      },
      "execution_count": null,
      "outputs": [
        {
          "output_type": "stream",
          "name": "stdout",
          "text": [
            "Nombre: Fifi Edad: 4 Codigo: PE-001 Precio: 200 Vacunado: True Sexo: Macho\n"
          ]
        }
      ]
    },
    {
      "cell_type": "markdown",
      "source": [
        "EJERCICIO 1:\n",
        "\n",
        "Plantear una clase que administre dos listas de 5 nombres de alumnos y sus notas. Mostrar un menú de opciones que permita:\n",
        "\n",
        "1.   Cargar alumnos.\n",
        "2.   Listar alumnos.\n",
        "3.   Mostrar alumnos con notas mayores o iguales a 7.\n",
        "4.   \n",
        "Finalizar programa.\n",
        "\n",
        "EJERCICIO 2: \n",
        "\n",
        "Plantear una clase Persona que contenga dos atributos: nombre y edad. Definir como responsabilidades la carga por teclado y un metodo para su impresión.\n",
        "\n",
        "Declarar una segunda clase llamada Empleado que herede de la clase Persona y agregue un atributo sueldo y muestre si debe pagar impuestos (sueldo superior a 3000)"
      ],
      "metadata": {
        "id": "W8xL1ZwKbIXA"
      }
    },
    {
      "cell_type": "code",
      "source": [
        "class Alumnos:\n",
        "\n",
        "  def __init__(self):\n",
        "    self.nombres=[]\n",
        "    self.notas=[]\n",
        "\n",
        "  def menu(self):\n",
        "    opcion = 0\n",
        "    while opcion != 4 :\n",
        "      print(\"1- Cargar alumnos.\")\n",
        "      print(\"2- Listar alumnos.\")\n",
        "      print(\"3- Mostrar alumnos con notas mayores o iguales a 7.\")\n",
        "      print(\"4. Finalizar programa.\")\n",
        "      opcion = int(input(\"Ingrese la opción: \"))\n",
        "      if opcion ==1:\n",
        "        self.cargar()\n",
        "      elif opcion == 2:\n",
        "        self.listar()\n",
        "      elif opcion == 3:\n",
        "        self.notas_altas()\n",
        "  \n",
        "  def cargar(self):\n",
        "    for x in range(5):\n",
        "      nombre = input(\"Nombre: \")\n",
        "      self.nombres.append(nombre)\n",
        "      nota = int(input(\"Nota: \"))\n",
        "      self.notas.append(nota)\n",
        "  \n",
        "  def listar(self):\n",
        "    print(\"Lista\")\n",
        "    for x in range(5):\n",
        "      print(self.nombres[x], self.notas[x])\n",
        "  \n",
        "  def notas_altas(self):\n",
        "    print(\"Mas de 7\")\n",
        "    for x in range(5):\n",
        "      if self.notas[x] >= 7:\n",
        "        print(self.nombres[x], self.notas[x])\n",
        "  \n",
        "alumnos = Alumnos()\n",
        "alumnos.menu()"
      ],
      "metadata": {
        "colab": {
          "base_uri": "https://localhost:8080/"
        },
        "id": "rvpv2SmebRxj",
        "outputId": "d7816432-b24d-4db2-dd8a-0fb2f838f0ae"
      },
      "execution_count": null,
      "outputs": [
        {
          "name": "stdout",
          "output_type": "stream",
          "text": [
            "1- Cargar alumnos.\n",
            "2- Listar alumnos.\n",
            "3- Mostrar alumnos con notas mayores o iguales a 7.\n",
            "4. Finalizar programa.\n",
            "Ingrese la opción: 1\n",
            "Nombre: jose\n",
            "Nota: 6\n",
            "Nombre: raul\n",
            "Nota: 7\n",
            "Nombre: antonio\n",
            "Nota: 8\n",
            "Nombre: maria\n",
            "Nota: 7\n",
            "Nombre: laura\n",
            "Nota: 7\n",
            "1- Cargar alumnos.\n",
            "2- Listar alumnos.\n",
            "3- Mostrar alumnos con notas mayores o iguales a 7.\n",
            "4. Finalizar programa.\n",
            "Ingrese la opción: 2\n",
            "Lista\n",
            "jose 6\n",
            "raul 7\n",
            "antonio 8\n",
            "maria 7\n",
            "laura 7\n",
            "1- Cargar alumnos.\n",
            "2- Listar alumnos.\n",
            "3- Mostrar alumnos con notas mayores o iguales a 7.\n",
            "4. Finalizar programa.\n",
            "Ingrese la opción: 3\n",
            "Mas de 7\n",
            "raul 7\n",
            "antonio 8\n",
            "maria 7\n",
            "laura 7\n",
            "1- Cargar alumnos.\n",
            "2- Listar alumnos.\n",
            "3- Mostrar alumnos con notas mayores o iguales a 7.\n",
            "4. Finalizar programa.\n",
            "Ingrese la opción: 4\n"
          ]
        }
      ]
    },
    {
      "cell_type": "code",
      "source": [
        "class Persona:\n",
        "\n",
        "  def __init__(self):\n",
        "    self.nombre = input(\"Nombre: \")\n",
        "    self.edad = int(input(\"Edad: \"))\n",
        "\n",
        "  def imprimir(self):\n",
        "    print(\"Nombre: \", self.nombre)\n",
        "    print(\"Edad: \", self.edad)\n",
        "\n",
        "class Empleado(Persona):\n",
        "\n",
        "  def __init__(self):\n",
        "    super().__init__()\n",
        "    self.sueldo = float(input(\"Sueldo:\"))\n",
        "\n",
        "  def imprimir(self):\n",
        "    super().imprimir()\n",
        "    print(\"Sueldo: \", self.sueldo)\n",
        "  \n",
        "  def paga_impuestos(self):\n",
        "    if self.sueldo>3000:\n",
        "      print(\"Paga\")\n",
        "    else:\n",
        "      print(\"No paga\")\n",
        "\n",
        "empleado=Empleado()\n",
        "empleado.paga_impuestos()"
      ],
      "metadata": {
        "colab": {
          "base_uri": "https://localhost:8080/"
        },
        "id": "N05GnhIxl5fA",
        "outputId": "142637db-2068-442e-c3e5-1712b211cb50"
      },
      "execution_count": null,
      "outputs": [
        {
          "output_type": "stream",
          "name": "stdout",
          "text": [
            "Nombre: jos\n",
            "Edad: 12\n",
            "Sueldo:1\n",
            "No paga\n"
          ]
        }
      ]
    },
    {
      "cell_type": "markdown",
      "source": [
        "PROGRAMACIÓN FUNCIONAL"
      ],
      "metadata": {
        "id": "lRSg3KwJsRhq"
      }
    },
    {
      "cell_type": "code",
      "source": [
        "numeros = [3,8,4,2,1]\n",
        "\n",
        "def duplicar(numero):\n",
        "  return numero*2\n",
        "\n",
        "numerosdobles = list(map(duplicar, numeros))\n",
        "print(numerosdobles)\n",
        "\n"
      ],
      "metadata": {
        "colab": {
          "base_uri": "https://localhost:8080/"
        },
        "id": "RXl18hvvsT7Q",
        "outputId": "fde1fc46-ad19-4805-9880-1c9d4993c3d4"
      },
      "execution_count": null,
      "outputs": [
        {
          "output_type": "stream",
          "name": "stdout",
          "text": [
            "[6, 16, 8, 4, 2]\n"
          ]
        }
      ]
    },
    {
      "cell_type": "code",
      "source": [
        "alumnos = dict(Luis=8, Maria=9, Raul=7)\n",
        "\n",
        "def sumarPunto(item):\n",
        "  return item[0], item[1] + 1\n",
        "\n",
        "nuevasnotas = dict(map(sumarPunto, alumnos.items()))\n",
        "\n",
        "print(nuevasnotas)"
      ],
      "metadata": {
        "colab": {
          "base_uri": "https://localhost:8080/"
        },
        "id": "MqnwtR7ytZ1u",
        "outputId": "5b63ad65-5ece-419a-a1e7-d86e2db8559b"
      },
      "execution_count": null,
      "outputs": [
        {
          "output_type": "stream",
          "name": "stdout",
          "text": [
            "{'Luis': 9, 'Maria': 10, 'Raul': 8}\n"
          ]
        }
      ]
    },
    {
      "cell_type": "code",
      "source": [
        "class Persona:\n",
        "\n",
        "  def __init__(self, nombre, edad):\n",
        "    self.nombre = nombre\n",
        "    self.edad = edad\n",
        "  \n",
        "  def mostrar(self):\n",
        "    print(\"Hola, soy {} y tengo {} años\".format(self.nombre, self.edad))\n",
        "\n",
        "personas=[Persona(\"Juan\", 20), Persona(\"Maria\",30)]\n",
        "\n",
        "def Modificarpersona(persona):\n",
        "  persona.nombre = persona.nombre.upper()\n",
        "  persona.edad += 1\n",
        "  return persona\n",
        "\n",
        "personas = list(map(Modificarpersona, personas))\n",
        "\n",
        "for persona in personas:\n",
        "  persona.mostrar()"
      ],
      "metadata": {
        "colab": {
          "base_uri": "https://localhost:8080/"
        },
        "id": "um3Sv9dLt9FD",
        "outputId": "7e308c58-7c0c-47da-cf41-98502f5ded8a"
      },
      "execution_count": null,
      "outputs": [
        {
          "output_type": "stream",
          "name": "stdout",
          "text": [
            "Hola, soy JUAN y tengo 21 años\n",
            "Hola, soy MARIA y tengo 31 años\n"
          ]
        }
      ]
    },
    {
      "cell_type": "code",
      "source": [
        "numeros = [2,4,3,2,1,6,7]\n",
        "\n",
        "def pares(numero):\n",
        "  if numero%2 == 0:\n",
        "    return True\n",
        "  else:\n",
        "    return False\n",
        "\n",
        "numerospares = list(filter(pares, numeros))\n",
        "\n",
        "print(numerospares)"
      ],
      "metadata": {
        "colab": {
          "base_uri": "https://localhost:8080/"
        },
        "id": "1A5uXVdFuBGm",
        "outputId": "4763e366-aec1-485e-a07c-0bb1dc9cb646"
      },
      "execution_count": null,
      "outputs": [
        {
          "output_type": "stream",
          "name": "stdout",
          "text": [
            "[2, 4, 2, 6]\n"
          ]
        }
      ]
    },
    {
      "cell_type": "code",
      "source": [
        "alumnos = dict(Luis=8, Maria=9, Raul=7)\n",
        "\n",
        "def menosdeocho(item):\n",
        "  if (item[1] < 8):\n",
        "    return True\n",
        "  else:\n",
        "    return False\n",
        "\n",
        "menosdeocho = dict(filter(menosdeocho, alumnos.items()))\n",
        "\n",
        "print(menosdeocho)"
      ],
      "metadata": {
        "colab": {
          "base_uri": "https://localhost:8080/"
        },
        "id": "dYIUbUU0v-Ds",
        "outputId": "a53a5424-b689-4f7e-c7a8-1ba3288472ac"
      },
      "execution_count": null,
      "outputs": [
        {
          "output_type": "stream",
          "name": "stdout",
          "text": [
            "{'Raul': 7}\n"
          ]
        }
      ]
    },
    {
      "cell_type": "code",
      "source": [
        "class Persona:\n",
        "\n",
        "  def __init__(self, nombre, edad):\n",
        "    self.nombre = nombre\n",
        "    self.edad = edad\n",
        "  \n",
        "  def mostrar(self):\n",
        "    print(\"Hola, soy {} y tengo {} años\".format(self.nombre, self.edad))\n",
        "\n",
        "personas=[Persona(\"Juan\", 20), Persona(\"Maria\",30)]\n",
        "\n",
        "def menosveinticinco(persona):\n",
        "  if persona.edad < 25:\n",
        "    return True\n",
        "  else:\n",
        "    return False\n",
        "\n",
        "menosveinticinco = list(filter(menosveinticinco, personas))\n",
        "\n",
        "for persona in menosveinticinco:\n",
        "  persona.mostrar()"
      ],
      "metadata": {
        "colab": {
          "base_uri": "https://localhost:8080/"
        },
        "id": "JxqcvlE-waro",
        "outputId": "0cef63fb-9ba2-4a71-ca1a-9fed0e0b7e57"
      },
      "execution_count": null,
      "outputs": [
        {
          "output_type": "stream",
          "name": "stdout",
          "text": [
            "Hola, soy Juan y tengo 20 años\n"
          ]
        }
      ]
    },
    {
      "cell_type": "code",
      "source": [
        "from functools import reduce \n",
        "\n",
        "numeros = [3,4,2,1,3,4]\n",
        "\n",
        "def sumar(resultado, num):\n",
        "  return resultado + num\n",
        "\n",
        "print(\"Suma: \", reduce(sumar,numeros))"
      ],
      "metadata": {
        "colab": {
          "base_uri": "https://localhost:8080/"
        },
        "id": "HEckFILSxNq1",
        "outputId": "7d87a973-2789-4388-abbb-4a2e7ad9bd94"
      },
      "execution_count": null,
      "outputs": [
        {
          "output_type": "stream",
          "name": "stdout",
          "text": [
            "Suma:  17\n"
          ]
        }
      ]
    },
    {
      "cell_type": "code",
      "source": [
        "colores = ['rojo', 'verde', 'azul']\n",
        "\n",
        "def concatenar(resultado, color):\n",
        "  return resultado + \"-\" + color\n",
        "\n",
        "print(reduce(concatenar,colores))"
      ],
      "metadata": {
        "colab": {
          "base_uri": "https://localhost:8080/"
        },
        "id": "gpjWtEcaxtCr",
        "outputId": "68ec283c-845d-478f-ab46-063b72178a36"
      },
      "execution_count": null,
      "outputs": [
        {
          "output_type": "stream",
          "name": "stdout",
          "text": [
            "rojo-verde-azul\n"
          ]
        }
      ]
    },
    {
      "cell_type": "markdown",
      "source": [
        "Dada una lista de personas almacenadas en diccionarios:\n",
        "\n",
        "   - Filtrar de acuerdo al sexo\n",
        "   - Y calcular la media de las edades"
      ],
      "metadata": {
        "id": "ALHlrz9uyOJ0"
      }
    },
    {
      "cell_type": "code",
      "source": [
        "personas = [\n",
        "    {\"Nombre\": \"Jorge\", \"Edad\":23, \"Sexo\": \"H\"},\n",
        "    {\"Nombre\": \"Jorge\", \"Edad\":24, \"Sexo\": \"M\"},\n",
        "    {\"Nombre\": \"Jorge\", \"Edad\":25, \"Sexo\": \"H\"}]\n",
        "\n",
        "def filtrar(item):\n",
        "  if item[\"Sexo\"] == \"M\":\n",
        "    return True\n",
        "  else: \n",
        "    return False\n",
        "\n",
        "def sumar(resultado, persona):\n",
        "  return resultado + persona[\"Edad\"]\n",
        "\n",
        "print(filter(filtrar, personas))\n",
        "print(reduce(sumar,personas)/len(personas))"
      ],
      "metadata": {
        "colab": {
          "base_uri": "https://localhost:8080/",
          "height": 347
        },
        "id": "dnXxUbHEx0CD",
        "outputId": "eb0a78a1-34b7-43dc-e7c3-d0c19b55e101"
      },
      "execution_count": null,
      "outputs": [
        {
          "output_type": "stream",
          "name": "stdout",
          "text": [
            "<filter object at 0x7f98dd705890>\n"
          ]
        },
        {
          "output_type": "error",
          "ename": "TypeError",
          "evalue": "ignored",
          "traceback": [
            "\u001b[0;31m---------------------------------------------------------------------------\u001b[0m",
            "\u001b[0;31mTypeError\u001b[0m                                 Traceback (most recent call last)",
            "\u001b[0;32m<ipython-input-58-63ce471b0adb>\u001b[0m in \u001b[0;36m<module>\u001b[0;34m\u001b[0m\n\u001b[1;32m     14\u001b[0m \u001b[0;34m\u001b[0m\u001b[0m\n\u001b[1;32m     15\u001b[0m \u001b[0mprint\u001b[0m\u001b[0;34m(\u001b[0m\u001b[0mfilter\u001b[0m\u001b[0;34m(\u001b[0m\u001b[0mfiltrar\u001b[0m\u001b[0;34m,\u001b[0m \u001b[0mpersonas\u001b[0m\u001b[0;34m)\u001b[0m\u001b[0;34m)\u001b[0m\u001b[0;34m\u001b[0m\u001b[0;34m\u001b[0m\u001b[0m\n\u001b[0;32m---> 16\u001b[0;31m \u001b[0mprint\u001b[0m\u001b[0;34m(\u001b[0m\u001b[0mreduce\u001b[0m\u001b[0;34m(\u001b[0m\u001b[0msumar\u001b[0m\u001b[0;34m,\u001b[0m\u001b[0mpersonas\u001b[0m\u001b[0;34m)\u001b[0m\u001b[0;34m/\u001b[0m\u001b[0mlen\u001b[0m\u001b[0;34m(\u001b[0m\u001b[0mpersonas\u001b[0m\u001b[0;34m)\u001b[0m\u001b[0;34m)\u001b[0m\u001b[0;34m\u001b[0m\u001b[0;34m\u001b[0m\u001b[0m\n\u001b[0m",
            "\u001b[0;32m<ipython-input-58-63ce471b0adb>\u001b[0m in \u001b[0;36msumar\u001b[0;34m(resultado, persona)\u001b[0m\n\u001b[1;32m     11\u001b[0m \u001b[0;34m\u001b[0m\u001b[0m\n\u001b[1;32m     12\u001b[0m \u001b[0;32mdef\u001b[0m \u001b[0msumar\u001b[0m\u001b[0;34m(\u001b[0m\u001b[0mresultado\u001b[0m\u001b[0;34m,\u001b[0m \u001b[0mpersona\u001b[0m\u001b[0;34m)\u001b[0m\u001b[0;34m:\u001b[0m\u001b[0;34m\u001b[0m\u001b[0;34m\u001b[0m\u001b[0m\n\u001b[0;32m---> 13\u001b[0;31m   \u001b[0;32mreturn\u001b[0m \u001b[0mresultado\u001b[0m \u001b[0;34m+\u001b[0m \u001b[0mpersona\u001b[0m\u001b[0;34m[\u001b[0m\u001b[0;34m\"Edad\"\u001b[0m\u001b[0;34m]\u001b[0m\u001b[0;34m\u001b[0m\u001b[0;34m\u001b[0m\u001b[0m\n\u001b[0m\u001b[1;32m     14\u001b[0m \u001b[0;34m\u001b[0m\u001b[0m\n\u001b[1;32m     15\u001b[0m \u001b[0mprint\u001b[0m\u001b[0;34m(\u001b[0m\u001b[0mfilter\u001b[0m\u001b[0;34m(\u001b[0m\u001b[0mfiltrar\u001b[0m\u001b[0;34m,\u001b[0m \u001b[0mpersonas\u001b[0m\u001b[0;34m)\u001b[0m\u001b[0;34m)\u001b[0m\u001b[0;34m\u001b[0m\u001b[0;34m\u001b[0m\u001b[0m\n",
            "\u001b[0;31mTypeError\u001b[0m: unsupported operand type(s) for +: 'dict' and 'int'"
          ]
        }
      ]
    }
  ]
}
