{
  "nbformat": 4,
  "nbformat_minor": 0,
  "metadata": {
    "colab": {
      "provenance": [],
      "authorship_tag": "ABX9TyMZLGhhN6FU4ss9l5cE+NJv",
      "include_colab_link": true
    },
    "kernelspec": {
      "name": "python3",
      "display_name": "Python 3"
    },
    "language_info": {
      "name": "python"
    }
  },
  "cells": [
    {
      "cell_type": "markdown",
      "metadata": {
        "id": "view-in-github",
        "colab_type": "text"
      },
      "source": [
        "<a href=\"https://colab.research.google.com/github/jorloicono/AF-BIGDATA-PYTHON/blob/main/PR%C3%81CTICAS/SESION-1.ipynb\" target=\"_parent\"><img src=\"https://colab.research.google.com/assets/colab-badge.svg\" alt=\"Open In Colab\"/></a>"
      ]
    },
    {
      "cell_type": "markdown",
      "source": [
        "ELEMENTOS SINTÁCTICOS DEL LENGUAJE"
      ],
      "metadata": {
        "id": "MED3j2jkvAyu"
      }
    },
    {
      "cell_type": "code",
      "source": [
        "A=3\n",
        "B='casa'\n",
        "C = ' grande'\n",
        "D= 9.234\n",
        "E=True\n",
        "\n",
        "print(B+C)\n",
        "\n",
        "print(type(B))\n",
        "print(type(D))\n",
        "print(type(E))"
      ],
      "metadata": {
        "colab": {
          "base_uri": "https://localhost:8080/"
        },
        "id": "nrxmRAO8vGhl",
        "outputId": "22c2764d-9ebc-4a7f-c954-d5864bd2d57c"
      },
      "execution_count": null,
      "outputs": [
        {
          "output_type": "stream",
          "name": "stdout",
          "text": [
            "casa grande\n",
            "<class 'str'>\n",
            "<class 'float'>\n",
            "<class 'bool'>\n"
          ]
        }
      ]
    },
    {
      "cell_type": "code",
      "source": [
        "sumando1 = input(\"Introduzca el primer sumando: \")\n",
        "sumando2 = input(\"Introduzca el segundo sumando: \")\n",
        "\n",
        "\n",
        "print(\"Resultado: \", int(sumando1) + int(sumando2))"
      ],
      "metadata": {
        "colab": {
          "base_uri": "https://localhost:8080/"
        },
        "id": "-GKGQV6bwdyz",
        "outputId": "943a8b80-cfd9-411c-e6df-f2eff858432f"
      },
      "execution_count": null,
      "outputs": [
        {
          "output_type": "stream",
          "name": "stdout",
          "text": [
            "Introduzca el primer sumando: 2\n",
            "Introduzca el segundo sumando: 3\n",
            "Resultado:  5\n"
          ]
        }
      ]
    },
    {
      "cell_type": "code",
      "source": [
        "sumando1 = float(input(\"Introduzca el primer sumando: \"))\n",
        "sumando2 = float(input(\"Introduzca el segundo sumando: \"))\n",
        "\n",
        "\n",
        "print(\"Resultado: \", sumando1 + sumando2)"
      ],
      "metadata": {
        "colab": {
          "base_uri": "https://localhost:8080/"
        },
        "id": "4OfYYPKByShh",
        "outputId": "29065a17-93e0-4f7e-a867-cb072f04e351"
      },
      "execution_count": null,
      "outputs": [
        {
          "output_type": "stream",
          "name": "stdout",
          "text": [
            "Introduzca el primer sumando: 5.435\n",
            "Introduzca el segundo sumando: 2.234534\n",
            "Resultado:  7.669534\n"
          ]
        }
      ]
    },
    {
      "cell_type": "code",
      "source": [
        "print(\"Juan\", \"Jose\", \"Pedro\", \"Antonio\", sep = ', ', end = '.')"
      ],
      "metadata": {
        "colab": {
          "base_uri": "https://localhost:8080/"
        },
        "id": "O2nXHEuJygem",
        "outputId": "0356287b-536a-4e73-9d19-49268f8e2412"
      },
      "execution_count": null,
      "outputs": [
        {
          "output_type": "stream",
          "name": "stdout",
          "text": [
            "Juan, Jose, Pedro, Antonio."
          ]
        }
      ]
    },
    {
      "cell_type": "code",
      "source": [
        "texto = \"Curso de Python\"\n",
        "\n",
        "print(texto.capitalize())\n",
        "print(texto.isalpha())\n",
        "print(texto.upper())\n",
        "print(texto.lower())\n",
        "print(texto.islower())\n",
        "\n",
        "print(len(texto))\n",
        "print(max(texto))\n",
        "print(min(texto))\n",
        "\n",
        "print(texto.replace('e','E'))\n",
        "print(texto.split())\n",
        "\n",
        "print(\"22/11/2022\".split('/'))\n",
        "datos= \"22/11/2022\".split('/')\n",
        "dia = datos[0]\n",
        "mes = datos[1]\n",
        "año = datos[2]\n",
        "print(dia)"
      ],
      "metadata": {
        "colab": {
          "base_uri": "https://localhost:8080/"
        },
        "id": "A4Y_s24_0ApV",
        "outputId": "d97ee68b-c7a1-4fd7-f7eb-e0a4e92de2a6"
      },
      "execution_count": null,
      "outputs": [
        {
          "output_type": "stream",
          "name": "stdout",
          "text": [
            "Curso de python\n",
            "False\n",
            "CURSO DE PYTHON\n",
            "curso de python\n",
            "False\n",
            "15\n",
            "y\n",
            " \n",
            "Curso dE Python\n",
            "['Curso', 'de', 'Python']\n",
            "['22', '11', '2022']\n",
            "22\n"
          ]
        }
      ]
    },
    {
      "cell_type": "code",
      "source": [
        "numero1 = 2\n",
        "numero2 = 3\n",
        "\n",
        "print(numero1 + numero2)\n",
        "\n",
        "print(numero1 % numero2)\n",
        "\n",
        "print(numero1 // numero2)\n",
        "\n",
        "numero1 = numero1 + 1\n",
        "numero1 += 1\n",
        "\n",
        "print(numero1)"
      ],
      "metadata": {
        "colab": {
          "base_uri": "https://localhost:8080/"
        },
        "id": "L-eX4rba2NJ2",
        "outputId": "262b8f56-3dbb-4c52-bf7b-a52edfc39b96"
      },
      "execution_count": null,
      "outputs": [
        {
          "output_type": "stream",
          "name": "stdout",
          "text": [
            "5\n",
            "2\n",
            "0\n",
            "4\n"
          ]
        }
      ]
    },
    {
      "cell_type": "code",
      "source": [
        "numero1 = 7\n",
        "numero2 = 5\n",
        "\n",
        "print(\"Menor:\", numero1 < numero2)\n",
        "print(\"Igual:\", numero1 == numero2)\n",
        "print(\"Diferente:\", numero1 != numero2)\n",
        "\n",
        "print(\"not:\", not(numero1 < numero2))\n",
        "print(\"and:\", (numero1 < numero2) and (numero2 == 5))\n",
        "print(\"or:\", (numero1 < numero2) or (numero2 == 5))"
      ],
      "metadata": {
        "colab": {
          "base_uri": "https://localhost:8080/"
        },
        "id": "pYLIX3RI3Gz_",
        "outputId": "247a93d5-88b6-4448-98ff-bf9627412784"
      },
      "execution_count": null,
      "outputs": [
        {
          "output_type": "stream",
          "name": "stdout",
          "text": [
            "Menor: False\n",
            "Igual: False\n",
            "Diferente: True\n",
            "not: True\n",
            "and: False\n",
            "or: True\n"
          ]
        }
      ]
    },
    {
      "cell_type": "code",
      "source": [
        "num1 = 6\n",
        "num2 = 6\n",
        "print(\"Mismo contenido?\", num1 is num2) # True porque la variable contiene el numero\n",
        "\n",
        "nombres1 = ['Juan', 'Maria']\n",
        "nombres2 = ['Juan', 'Maria']\n",
        "print(\"Mismo contenido?\", nombres1 is nombres2) # False porque los objetos son diferentes\n",
        "\n",
        "name1 = 'Jorge'\n",
        "name2 = 'Jorge'\n",
        "print(\"Mismo contenido?\", name1 is name2) # True porque los str en Python son tipos basicos\n",
        "\n",
        "print(\"in\", 'Luis' in nombres1)\n",
        "print(\"in\", 'Maria' in nombres1)\n",
        "print(\"not in\", 'Luis' not in nombres1)"
      ],
      "metadata": {
        "colab": {
          "base_uri": "https://localhost:8080/"
        },
        "id": "yQezh-hs3w9d",
        "outputId": "46860ac9-3ef4-416d-c59b-f0b9bfaaad88"
      },
      "execution_count": null,
      "outputs": [
        {
          "output_type": "stream",
          "name": "stdout",
          "text": [
            "Mismo contenido? True\n",
            "Mismo contenido? False\n",
            "Mismo contenido? True\n",
            "in False\n",
            "in True\n",
            "not in True\n"
          ]
        }
      ]
    },
    {
      "cell_type": "code",
      "source": [
        "numero = int(input(\"Introduce un numero entre 1 y el 10: \"))\n",
        "\n",
        "if numero < 1 : \n",
        "  print(\"El numero no puede ser menor que 1\")\n",
        "else: \n",
        "  if numero > 10 :\n",
        "    print(\"El numero no puede ser mayor que 10\")\n",
        "  else : \n",
        "    print(\"Bien!\")"
      ],
      "metadata": {
        "colab": {
          "base_uri": "https://localhost:8080/"
        },
        "id": "7ZnKitDv46yl",
        "outputId": "9e18482d-777c-4c84-df4b-f99874f6ee46"
      },
      "execution_count": null,
      "outputs": [
        {
          "output_type": "stream",
          "name": "stdout",
          "text": [
            "Introduce un numero entre 1 y el 10: 5\n",
            "Bien!\n"
          ]
        }
      ]
    },
    {
      "cell_type": "code",
      "source": [
        "numero = int(input(\"Introduce un numero entre 1 y el 10: \"))\n",
        "\n",
        "if numero < 1 : \n",
        "  print(\"El numero no puede ser menor que 1\")\n",
        "elif numero > 30 :\n",
        "  print(\"El numero no puede ser mayor que 10. Te has pasado por mucho!!!\")\n",
        "elif numero > 10 :\n",
        "  print(\"El numero no puede ser mayor que 10\")\n",
        "else : \n",
        "  print(\"Bien!\")"
      ],
      "metadata": {
        "colab": {
          "base_uri": "https://localhost:8080/"
        },
        "id": "cEprlfmh5osQ",
        "outputId": "8c39b9cd-3e35-4c72-de8c-ff476aec4548"
      },
      "execution_count": null,
      "outputs": [
        {
          "output_type": "stream",
          "name": "stdout",
          "text": [
            "Introduce un numero entre 1 y el 10: 67\n",
            "El numero no puede ser mayor que 10. Te has pasado por mucho!!!\n"
          ]
        }
      ]
    },
    {
      "cell_type": "code",
      "source": [
        "nombres = [\"Luis\", \"Jorge\", \"Maria\", \"Laura\", \"Pedro\"]\n",
        "\n",
        "for item in nombres :\n",
        "    print(item)\n",
        "print(\"------------  FIN ----------\")\n",
        "\n",
        "for numero in range(10): # Rango va de 0 al numero-1\n",
        "    print(numero)\n",
        "print(\"------------  FIN ----------\")\n",
        "\n",
        "for numero in range(1,11): \n",
        "    print(numero)\n",
        "print(\"------------  FIN ----------\")\n",
        "for numero in range(0, 10, 2): \n",
        "    print(numero)\n",
        "print(\"------------  FIN ----------\")\n",
        "for i in range(len(nombres)): \n",
        "    print(nombres[i])\n",
        "print(\"------------  FIN ----------\")"
      ],
      "metadata": {
        "colab": {
          "base_uri": "https://localhost:8080/"
        },
        "id": "ln1NGHZD6ZCN",
        "outputId": "a90f7ad2-01b9-4942-a802-ad4b9a5ba535"
      },
      "execution_count": null,
      "outputs": [
        {
          "output_type": "stream",
          "name": "stdout",
          "text": [
            "Luis\n",
            "Jorge\n",
            "Maria\n",
            "Laura\n",
            "Pedro\n",
            "------------  FIN ----------\n",
            "0\n",
            "1\n",
            "2\n",
            "3\n",
            "4\n",
            "5\n",
            "6\n",
            "7\n",
            "8\n",
            "9\n",
            "------------  FIN ----------\n",
            "1\n",
            "2\n",
            "3\n",
            "4\n",
            "5\n",
            "6\n",
            "7\n",
            "8\n",
            "9\n",
            "10\n",
            "------------  FIN ----------\n",
            "0\n",
            "2\n",
            "4\n",
            "6\n",
            "8\n",
            "------------  FIN ----------\n",
            "Luis\n",
            "Jorge\n",
            "Maria\n",
            "Laura\n",
            "Pedro\n",
            "------------  FIN ----------\n"
          ]
        }
      ]
    },
    {
      "cell_type": "code",
      "source": [
        "for tabla in range(10,0,-1):\n",
        "  print(\"**** Tabla del \", tabla, \" ****\")\n",
        "  for num in range(1,11):\n",
        "    print(tabla,\"*\",num,\"=\",tabla*num)\n",
        "  print()"
      ],
      "metadata": {
        "colab": {
          "base_uri": "https://localhost:8080/"
        },
        "id": "l2h76qA27Rsb",
        "outputId": "f6b58919-1751-4e7e-88e4-d635c4b48c7f"
      },
      "execution_count": null,
      "outputs": [
        {
          "output_type": "stream",
          "name": "stdout",
          "text": [
            "**** Tabla del  10  ****\n",
            "10 * 1 = 10\n",
            "10 * 2 = 20\n",
            "10 * 3 = 30\n",
            "10 * 4 = 40\n",
            "10 * 5 = 50\n",
            "10 * 6 = 60\n",
            "10 * 7 = 70\n",
            "10 * 8 = 80\n",
            "10 * 9 = 90\n",
            "10 * 10 = 100\n",
            "\n",
            "**** Tabla del  9  ****\n",
            "9 * 1 = 9\n",
            "9 * 2 = 18\n",
            "9 * 3 = 27\n",
            "9 * 4 = 36\n",
            "9 * 5 = 45\n",
            "9 * 6 = 54\n",
            "9 * 7 = 63\n",
            "9 * 8 = 72\n",
            "9 * 9 = 81\n",
            "9 * 10 = 90\n",
            "\n",
            "**** Tabla del  8  ****\n",
            "8 * 1 = 8\n",
            "8 * 2 = 16\n",
            "8 * 3 = 24\n",
            "8 * 4 = 32\n",
            "8 * 5 = 40\n",
            "8 * 6 = 48\n",
            "8 * 7 = 56\n",
            "8 * 8 = 64\n",
            "8 * 9 = 72\n",
            "8 * 10 = 80\n",
            "\n",
            "**** Tabla del  7  ****\n",
            "7 * 1 = 7\n",
            "7 * 2 = 14\n",
            "7 * 3 = 21\n",
            "7 * 4 = 28\n",
            "7 * 5 = 35\n",
            "7 * 6 = 42\n",
            "7 * 7 = 49\n",
            "7 * 8 = 56\n",
            "7 * 9 = 63\n",
            "7 * 10 = 70\n",
            "\n",
            "**** Tabla del  6  ****\n",
            "6 * 1 = 6\n",
            "6 * 2 = 12\n",
            "6 * 3 = 18\n",
            "6 * 4 = 24\n",
            "6 * 5 = 30\n",
            "6 * 6 = 36\n",
            "6 * 7 = 42\n",
            "6 * 8 = 48\n",
            "6 * 9 = 54\n",
            "6 * 10 = 60\n",
            "\n",
            "**** Tabla del  5  ****\n",
            "5 * 1 = 5\n",
            "5 * 2 = 10\n",
            "5 * 3 = 15\n",
            "5 * 4 = 20\n",
            "5 * 5 = 25\n",
            "5 * 6 = 30\n",
            "5 * 7 = 35\n",
            "5 * 8 = 40\n",
            "5 * 9 = 45\n",
            "5 * 10 = 50\n",
            "\n",
            "**** Tabla del  4  ****\n",
            "4 * 1 = 4\n",
            "4 * 2 = 8\n",
            "4 * 3 = 12\n",
            "4 * 4 = 16\n",
            "4 * 5 = 20\n",
            "4 * 6 = 24\n",
            "4 * 7 = 28\n",
            "4 * 8 = 32\n",
            "4 * 9 = 36\n",
            "4 * 10 = 40\n",
            "\n",
            "**** Tabla del  3  ****\n",
            "3 * 1 = 3\n",
            "3 * 2 = 6\n",
            "3 * 3 = 9\n",
            "3 * 4 = 12\n",
            "3 * 5 = 15\n",
            "3 * 6 = 18\n",
            "3 * 7 = 21\n",
            "3 * 8 = 24\n",
            "3 * 9 = 27\n",
            "3 * 10 = 30\n",
            "\n",
            "**** Tabla del  2  ****\n",
            "2 * 1 = 2\n",
            "2 * 2 = 4\n",
            "2 * 3 = 6\n",
            "2 * 4 = 8\n",
            "2 * 5 = 10\n",
            "2 * 6 = 12\n",
            "2 * 7 = 14\n",
            "2 * 8 = 16\n",
            "2 * 9 = 18\n",
            "2 * 10 = 20\n",
            "\n",
            "**** Tabla del  1  ****\n",
            "1 * 1 = 1\n",
            "1 * 2 = 2\n",
            "1 * 3 = 3\n",
            "1 * 4 = 4\n",
            "1 * 5 = 5\n",
            "1 * 6 = 6\n",
            "1 * 7 = 7\n",
            "1 * 8 = 8\n",
            "1 * 9 = 9\n",
            "1 * 10 = 10\n",
            "\n"
          ]
        }
      ]
    },
    {
      "cell_type": "code",
      "source": [
        "num = 1\n",
        "while num <= 10 :\n",
        "    print(num)\n",
        "    num += 1\n",
        "print(\"--------  FIN -------\")\n",
        "\n",
        "# recorrer la coleccion\n",
        "nombres = [\"Luis\", \"Jorge\", \"Maria\", \"Laura\", \"Pedro\"]\n",
        "i = 0\n",
        "while i < len(nombres):\n",
        "    print(nombres[i])\n",
        "    i += 1\n",
        "print(\"--------  FIN -------\")"
      ],
      "metadata": {
        "colab": {
          "base_uri": "https://localhost:8080/"
        },
        "id": "tNlqWyxm8Q7c",
        "outputId": "0128dc5f-18bf-425e-bda9-3ac03af8756a"
      },
      "execution_count": null,
      "outputs": [
        {
          "output_type": "stream",
          "name": "stdout",
          "text": [
            "1\n",
            "2\n",
            "3\n",
            "4\n",
            "5\n",
            "6\n",
            "7\n",
            "8\n",
            "9\n",
            "10\n",
            "--------  FIN -------\n",
            "Luis\n",
            "Jorge\n",
            "Maria\n",
            "Laura\n",
            "Pedro\n",
            "--------  FIN -------\n"
          ]
        }
      ]
    },
    {
      "cell_type": "markdown",
      "source": [
        "EJERCICIO 1: \n",
        "\n",
        "Calcular los 50 primeros terminos de la serie de Fibonacci 0 1 1 2 3 5 8 13 ...\n",
        "\n",
        "EJERCICIO 2: \n",
        "\n",
        "Solicitar la contraseña al usuario hasta que acierte que es curso. Solo tiene 3 intentos"
      ],
      "metadata": {
        "id": "YKl2x_Zd9BFy"
      }
    },
    {
      "cell_type": "code",
      "source": [
        "num1, num2 = 0, 1\n",
        "contador = 2\n",
        "print(num1)\n",
        "\n",
        "while (contador <= 50) :\n",
        "    print(num2)\n",
        "    num1 = num2\n",
        "    num2 = num1 + num2\n",
        "    contador += 1\n",
        "print(\"---------- FIN ---------\")\n"
      ],
      "metadata": {
        "colab": {
          "base_uri": "https://localhost:8080/"
        },
        "id": "ejFYcnrKBPYX",
        "outputId": "52253359-3691-4c24-dce9-d7fd265dc7fb"
      },
      "execution_count": null,
      "outputs": [
        {
          "output_type": "stream",
          "name": "stdout",
          "text": [
            "0\n",
            "1\n",
            "2\n",
            "4\n",
            "8\n",
            "16\n",
            "32\n",
            "64\n",
            "128\n",
            "256\n",
            "512\n",
            "1024\n",
            "2048\n",
            "4096\n",
            "8192\n",
            "16384\n",
            "32768\n",
            "65536\n",
            "131072\n",
            "262144\n",
            "524288\n",
            "1048576\n",
            "2097152\n",
            "4194304\n",
            "8388608\n",
            "16777216\n",
            "33554432\n",
            "67108864\n",
            "134217728\n",
            "268435456\n",
            "536870912\n",
            "1073741824\n",
            "2147483648\n",
            "4294967296\n",
            "8589934592\n",
            "17179869184\n",
            "34359738368\n",
            "68719476736\n",
            "137438953472\n",
            "274877906944\n",
            "549755813888\n",
            "1099511627776\n",
            "2199023255552\n",
            "4398046511104\n",
            "8796093022208\n",
            "17592186044416\n",
            "35184372088832\n",
            "70368744177664\n",
            "140737488355328\n",
            "281474976710656\n",
            "---------- FIN ---------\n"
          ]
        }
      ]
    },
    {
      "cell_type": "code",
      "source": [
        "# Version 1\n",
        "'''\n",
        "pw = \"\"\n",
        "intentos = 3\n",
        "while pw != \"curso\" :\n",
        "    pw = input(\"Introduce pw: \")\n",
        "    intentos -= 1\n",
        "    if intentos == 0 :\n",
        "        print(\"Se agotaron tus oportunidades\")\n",
        "        break  # Damos por terminado el bucle\n",
        "    \n",
        "if pw == \"curso\" :\n",
        "    print(\"Has acertado\")\n",
        "'''\n",
        "    \n",
        "# Version 2\n",
        "'''\n",
        "intentos = 0\n",
        "while intentos < 3 :\n",
        "    pw = input(\"Introduce pw: \")\n",
        "    if pw == \"curso\" :\n",
        "        print(\"Has acertado\")\n",
        "        break\n",
        "    else:\n",
        "        print(\"Incorrecta\")\n",
        "    intentos += 1\n",
        "'''\n",
        "\n",
        "\n",
        "# Version 3\n",
        "password = \"curso\"\n",
        "for intento in range(3) :\n",
        "    pw = input(\"Introduce pw: \")\n",
        "    if pw == password :\n",
        "        print(\"Has acertado\")\n",
        "        break\n",
        "    else :\n",
        "        print(\"Contraseña incorrecta. Le quedan\", 2-intento, \"intentos\")\n"
      ],
      "metadata": {
        "id": "ZTN-MwEgCmqe"
      },
      "execution_count": null,
      "outputs": []
    },
    {
      "cell_type": "code",
      "source": [
        "for num in range(11) :\n",
        "    if num % 2 != 0 :\n",
        "        continue\n",
        "    print(num)"
      ],
      "metadata": {
        "colab": {
          "base_uri": "https://localhost:8080/"
        },
        "id": "xIrg-aeWFnS7",
        "outputId": "fc0da23d-5084-4371-9941-2f36f5ba76fb"
      },
      "execution_count": 1,
      "outputs": [
        {
          "output_type": "stream",
          "name": "stdout",
          "text": [
            "0\n",
            "2\n",
            "4\n",
            "6\n",
            "8\n",
            "10\n"
          ]
        }
      ]
    },
    {
      "cell_type": "markdown",
      "source": [
        "FUNCIONES"
      ],
      "metadata": {
        "id": "oA5jMgUNM8sT"
      }
    },
    {
      "cell_type": "code",
      "source": [
        "def saludar(nombre):\n",
        "    print(\"Hola\", nombre, \"que bien que es martes\")\n",
        "    \n",
        "def despedir() :\n",
        "    return \"Adios, nos vemos el lunes\"\n",
        "\n",
        "saludar(\"Jose\")\n",
        "\n",
        "print(despedir())"
      ],
      "metadata": {
        "colab": {
          "base_uri": "https://localhost:8080/"
        },
        "id": "r8rdNr5bM_oJ",
        "outputId": "7b88f0b3-16ff-4faa-91f0-486e858f755b"
      },
      "execution_count": 9,
      "outputs": [
        {
          "output_type": "stream",
          "name": "stdout",
          "text": [
            "Hola Jose que bien que es martes\n",
            "Adios, nos vemos el lunes\n"
          ]
        }
      ]
    },
    {
      "cell_type": "code",
      "source": [
        "def procesarTexto(texto):\n",
        "  mayusculas = texto.upper()\n",
        "  minusculas = texto.lower()\n",
        "  longitud = len(texto)\n",
        "  return mayusculas, minusculas, longitud\n",
        "\n",
        "txtmayusculas, txtminusculas, txtlongitud = procesarTexto(\"Hola, buenos dias!\")\n",
        "\n",
        "print(txtlongitud)\n",
        "print(txtmayusculas)\n",
        "print(txtminusculas)\n",
        "\n",
        "lista = procesarTexto(\"Hola, buenos dias!\")\n",
        "print(lista)"
      ],
      "metadata": {
        "colab": {
          "base_uri": "https://localhost:8080/"
        },
        "id": "le8RnU63NrdU",
        "outputId": "42dfc65b-3e78-4ad2-d318-7bea50576585"
      },
      "execution_count": 13,
      "outputs": [
        {
          "output_type": "stream",
          "name": "stdout",
          "text": [
            "18\n",
            "HOLA, BUENOS DIAS!\n",
            "hola, buenos dias!\n",
            "('HOLA, BUENOS DIAS!', 'hola, buenos dias!', 18)\n"
          ]
        }
      ]
    },
    {
      "cell_type": "code",
      "source": [
        "def datosTrabajador(nombre, estadoCivil=\"Casado\", sueldo=20000):\n",
        "  return nombre + \" está \" + estadoCivil + \" y gana \" + str(sueldo)\n",
        "\n",
        "print(datosTrabajador(\"Juan\"))\n",
        "print(datosTrabajador(\"Juan\",\"\" ,90000))\n",
        "print(datosTrabajador(\"Juan\",\"Casado\", 30000))\n",
        "print(datosTrabajador(\"Juan\", sueldo=30000))\n"
      ],
      "metadata": {
        "colab": {
          "base_uri": "https://localhost:8080/"
        },
        "id": "JqQ7R7MOO6iZ",
        "outputId": "b0577902-a31b-4b20-aabb-14ab72237c23"
      },
      "execution_count": 41,
      "outputs": [
        {
          "output_type": "stream",
          "name": "stdout",
          "text": [
            "Juan está Casado y gana 20000\n",
            "Juan está  y gana 90000\n",
            "Juan está Casado y gana 30000\n",
            "Juan está Casado y gana 30000\n"
          ]
        }
      ]
    },
    {
      "cell_type": "code",
      "source": [
        "def sumar(nombres,*numeros):\n",
        "  suma=0\n",
        "  for num in numeros:\n",
        "    suma += num\n",
        "  return nombres, suma\n",
        "\n",
        "print(sumar(\"jose\"))\n"
      ],
      "metadata": {
        "colab": {
          "base_uri": "https://localhost:8080/"
        },
        "id": "HHwIiX1TRU0a",
        "outputId": "16dd3337-89f2-4425-c2c4-02b54d412d9c"
      },
      "execution_count": 36,
      "outputs": [
        {
          "output_type": "stream",
          "name": "stdout",
          "text": [
            "('jose', 0)\n"
          ]
        }
      ]
    },
    {
      "cell_type": "markdown",
      "source": [
        "EJERCICIO 1: \n",
        "\n",
        "Crear una funcion que recibe el nombre y las notas y calcular la nota media la funcion retorna el nombre en mayusculas y la nota media.\n",
        "\n",
        "EJERCICIO 2: \n",
        "\n",
        "Realiza una función llamada relacion(a, b) que a partir de dos números cumpla lo siguiente:\n",
        "\n",
        "    - Si el primer número es mayor que el segundo, debe devolver 1.\n",
        "    - Si el primer número es menor que el segundo, debe devolver -1.\n",
        "    - Si ambos números son iguales, debe devolver un 0.\n",
        "\n",
        "Comprueba la relación entre los números: '5 y 10', '10 y 5' y '5 y 5'.\n",
        "\n"
      ],
      "metadata": {
        "id": "0ibQJRHIS-BQ"
      }
    },
    {
      "cell_type": "code",
      "source": [
        "def procesarNotas(nombre, *notas) :\n",
        "    suma=0   \n",
        "    for num in notas:\n",
        "      suma += num\n",
        "    if suma == 0:\n",
        "      notaMedia=0\n",
        "    else:\n",
        "      notaMedia = suma / len(notas)\n",
        "    return nombre.upper(), notaMedia\n",
        "\n",
        "\n",
        "print(procesarNotas(\"Juan\"))"
      ],
      "metadata": {
        "colab": {
          "base_uri": "https://localhost:8080/"
        },
        "id": "5OznXip1YTQs",
        "outputId": "acecdaaa-490e-4475-dc64-65aae4ff994c"
      },
      "execution_count": 48,
      "outputs": [
        {
          "output_type": "stream",
          "name": "stdout",
          "text": [
            "('JUAN', 0)\n"
          ]
        }
      ]
    },
    {
      "cell_type": "code",
      "source": [
        "def relacion(a,b):\n",
        "  \n",
        "  if (a>b):\n",
        "    resultado = 1\n",
        "\n",
        "  elif (a<b):\n",
        "    resultado = -1\n",
        "\n",
        "  else:\n",
        "    resultado = 0\n",
        "\n",
        "  return resultado\n",
        "\n",
        "print(relacion(5,10))\n",
        "print(relacion(10,5))\n",
        "print(relacion(5,5))"
      ],
      "metadata": {
        "colab": {
          "base_uri": "https://localhost:8080/"
        },
        "id": "-LHt2z2acVl4",
        "outputId": "557931d0-5024-4651-992d-c149fde90b34"
      },
      "execution_count": 50,
      "outputs": [
        {
          "output_type": "stream",
          "name": "stdout",
          "text": [
            "-1\n",
            "1\n",
            "0\n"
          ]
        }
      ]
    },
    {
      "cell_type": "markdown",
      "source": [
        "COLECCIONES\n"
      ],
      "metadata": {
        "id": "fRBqNjPJiNzr"
      }
    },
    {
      "cell_type": "code",
      "source": [
        "colores = ['rojo', ('rosa', 'verde'), 'azul']\n",
        "\n",
        "print(colores)\n",
        "print(colores[1])\n",
        "del colores[2]\n",
        "print(colores)\n",
        "\n",
        "mascolores = ['blanco', 'negro', 'rosa', 'azul']\n",
        "\n",
        "lista = colores + mascolores\n",
        "print(lista)\n",
        "\n",
        "lista.remove('rosa')\n",
        "print(lista)\n",
        "\n",
        "lista.append('naranja')\n",
        "print(lista)\n",
        "\n",
        "lista.insert(0,'marron')\n",
        "print(lista)\n",
        "\n",
        "print(lista.count('verde'))\n",
        "\n",
        "print(lista[-1])\n",
        "print(lista[-3])\n",
        "print(lista[-3:])\n",
        "print(lista[:])\n",
        "\n",
        "print(lista[2:4])\n",
        "\n",
        "pc = [\"ordenador\", \"teclado\", [\"tarjeta de sonido\", \"microfono\", [\"altavoz externo\", \"altavoz interno\"]]]\n",
        "\n",
        "print(pc[2][2][1])\n",
        "\n",
        "coloresextra = ['rojo', ('rosa', 'verde'), 'azul']\n",
        "\n",
        "coloresextra[1][0] = 'naranja'\n",
        "\n",
        "print(coloresextra)"
      ],
      "metadata": {
        "colab": {
          "base_uri": "https://localhost:8080/",
          "height": 479
        },
        "id": "mbp786lhiP59",
        "outputId": "0e4b9dbe-7d57-4648-f524-d808d7dc0629"
      },
      "execution_count": 88,
      "outputs": [
        {
          "output_type": "stream",
          "name": "stdout",
          "text": [
            "['rojo', ('rosa', 'verde'), 'azul']\n",
            "('rosa', 'verde')\n",
            "['rojo', ('rosa', 'verde')]\n",
            "['rojo', ('rosa', 'verde'), 'blanco', 'negro', 'rosa', 'azul']\n",
            "['rojo', ('rosa', 'verde'), 'blanco', 'negro', 'azul']\n",
            "['rojo', ('rosa', 'verde'), 'blanco', 'negro', 'azul', 'naranja']\n",
            "['marron', 'rojo', ('rosa', 'verde'), 'blanco', 'negro', 'azul', 'naranja']\n",
            "0\n",
            "naranja\n",
            "negro\n",
            "['negro', 'azul', 'naranja']\n",
            "['marron', 'rojo', ('rosa', 'verde'), 'blanco', 'negro', 'azul', 'naranja']\n",
            "[('rosa', 'verde'), 'blanco']\n",
            "altavoz interno\n"
          ]
        },
        {
          "output_type": "error",
          "ename": "TypeError",
          "evalue": "ignored",
          "traceback": [
            "\u001b[0;31m---------------------------------------------------------------------------\u001b[0m",
            "\u001b[0;31mTypeError\u001b[0m                                 Traceback (most recent call last)",
            "\u001b[0;32m<ipython-input-88-d96881737890>\u001b[0m in \u001b[0;36m<module>\u001b[0;34m\u001b[0m\n\u001b[1;32m     35\u001b[0m \u001b[0mcoloresextra\u001b[0m \u001b[0;34m=\u001b[0m \u001b[0;34m[\u001b[0m\u001b[0;34m'rojo'\u001b[0m\u001b[0;34m,\u001b[0m \u001b[0;34m(\u001b[0m\u001b[0;34m'rosa'\u001b[0m\u001b[0;34m,\u001b[0m \u001b[0;34m'verde'\u001b[0m\u001b[0;34m)\u001b[0m\u001b[0;34m,\u001b[0m \u001b[0;34m'azul'\u001b[0m\u001b[0;34m]\u001b[0m\u001b[0;34m\u001b[0m\u001b[0;34m\u001b[0m\u001b[0m\n\u001b[1;32m     36\u001b[0m \u001b[0;34m\u001b[0m\u001b[0m\n\u001b[0;32m---> 37\u001b[0;31m \u001b[0mcoloresextra\u001b[0m\u001b[0;34m[\u001b[0m\u001b[0;36m1\u001b[0m\u001b[0;34m]\u001b[0m\u001b[0;34m[\u001b[0m\u001b[0;36m0\u001b[0m\u001b[0;34m]\u001b[0m \u001b[0;34m=\u001b[0m \u001b[0;34m'naranja'\u001b[0m\u001b[0;34m\u001b[0m\u001b[0;34m\u001b[0m\u001b[0m\n\u001b[0m\u001b[1;32m     38\u001b[0m \u001b[0;34m\u001b[0m\u001b[0m\n\u001b[1;32m     39\u001b[0m \u001b[0mprint\u001b[0m\u001b[0;34m(\u001b[0m\u001b[0mcoloresextra\u001b[0m\u001b[0;34m)\u001b[0m\u001b[0;34m\u001b[0m\u001b[0;34m\u001b[0m\u001b[0m\n",
            "\u001b[0;31mTypeError\u001b[0m: 'tuple' object does not support item assignment"
          ]
        }
      ]
    },
    {
      "cell_type": "code",
      "source": [
        "dias = (\"lunes\", [\"martes\", \"mar\"], \"miercoles\", \"jueves\", \"viernes\", \"sabado\", \"domingo\")\n",
        "\n",
        "print(dias)\n",
        "\n",
        "#for dia in dias:\n",
        "#  print(dia)\n",
        "\n",
        "print(dias[2])\n",
        "\n",
        "#del dias[0]\n",
        "\n",
        "# tupla2 = dias + (\"sabado\")\n",
        "\n",
        "numeros = (1,2,3,4,5)\n",
        "\n",
        "tupla2 = numeros + dias\n",
        "\n",
        "print(tupla2)\n",
        "\n",
        "# dias[0] = \"lun\"\n",
        "\n"
      ],
      "metadata": {
        "colab": {
          "base_uri": "https://localhost:8080/"
        },
        "id": "LcUIhyHQlKbH",
        "outputId": "964c3245-a8dd-4619-b5e7-3dd72188fc3b"
      },
      "execution_count": 84,
      "outputs": [
        {
          "output_type": "stream",
          "name": "stdout",
          "text": [
            "('lunes', ['martes', 'mar'], 'miercoles', 'jueves', 'viernes', 'sabado', 'domingo')\n",
            "miercoles\n",
            "(1, 2, 3, 4, 5, 'lunes', ['martes', 'mar'], 'miercoles', 'jueves', 'viernes', 'sabado', 'domingo')\n"
          ]
        }
      ]
    },
    {
      "cell_type": "code",
      "source": [
        "frutas = {'manzana','pera','naranja','pera','platano'}\n",
        "\n",
        "print(frutas)\n",
        "\n",
        "print('pera' in frutas)\n",
        "\n",
        "frutas.add('fresas')\n",
        "frutas.remove('platano')\n",
        "\n",
        "frutas.add('fresas')\n",
        "print(frutas)\n",
        "\n",
        "frutas.remove('fresas')\n",
        "print(frutas)\n",
        "\n",
        "# print(frutas[0])\n",
        "\n",
        "numeros1 = {1,2,3,4,5,6,7,8,9}\n",
        "numeros2 = {0,2,4,6,8,10}\n",
        "\n",
        "print(numeros1.intersection(numeros2))\n",
        "\n",
        "print(numeros1.difference(numeros2))\n",
        "\n",
        "print(numeros2.difference(numeros1))\n",
        "\n",
        "print(numeros1.symmetric_difference(numeros2))\n",
        "\n",
        "print(numeros1.union(numeros2))\n",
        "\n",
        "color = set(colores)\n",
        "print(color)"
      ],
      "metadata": {
        "colab": {
          "base_uri": "https://localhost:8080/"
        },
        "id": "_xxiBOp5nS3q",
        "outputId": "d6669c05-e1c9-45ba-c82c-ee5d4e08472c"
      },
      "execution_count": 101,
      "outputs": [
        {
          "output_type": "stream",
          "name": "stdout",
          "text": [
            "{'platano', 'naranja', 'manzana', 'pera'}\n",
            "True\n",
            "{'manzana', 'fresas', 'naranja', 'pera'}\n",
            "{'manzana', 'naranja', 'pera'}\n",
            "{8, 2, 4, 6}\n",
            "{1, 3, 5, 7, 9}\n",
            "{0, 10}\n",
            "{0, 1, 3, 5, 7, 9, 10}\n",
            "{0, 1, 2, 3, 4, 5, 6, 7, 8, 9, 10}\n",
            "{('rosa', 'verde'), 'rojo'}\n"
          ]
        }
      ]
    },
    {
      "cell_type": "code",
      "source": [
        "alumnos = {\"Juan\":[2,3,6], \"Maria\": 8.3, \"Luis\": 6.4, \"Adolfo\":7.1, \"Maria\":9.3}\n",
        "print(type(alumnos))\n",
        "print(alumnos)\n",
        "\n",
        "print(alumnos.keys())\n",
        "print(alumnos.values())\n",
        "\n",
        "print(alumnos['Luis'])\n",
        "\n",
        "alumnos['Pedro']=6.2\n",
        "\n",
        "diction = dict(Luis=9,Jose=8,Pedro=6)\n",
        "\n",
        "print(\"Maria\" in alumnos)\n",
        "\n",
        "del alumnos['Adolfo']\n",
        "\n",
        "print(alumnos['Juan'][0])\n"
      ],
      "metadata": {
        "colab": {
          "base_uri": "https://localhost:8080/"
        },
        "id": "3LSQCOZJqMlP",
        "outputId": "65ad2eb3-5c6d-4993-efde-ee5e99eaffcf"
      },
      "execution_count": 111,
      "outputs": [
        {
          "output_type": "stream",
          "name": "stdout",
          "text": [
            "<class 'dict'>\n",
            "{'Juan': [2, 3, 6], 'Maria': 9.3, 'Luis': 6.4, 'Adolfo': 7.1}\n",
            "dict_keys(['Juan', 'Maria', 'Luis', 'Adolfo'])\n",
            "dict_values([[2, 3, 6], 9.3, 6.4, 7.1])\n",
            "6.4\n",
            "True\n",
            "2\n"
          ]
        }
      ]
    }
  ]
}