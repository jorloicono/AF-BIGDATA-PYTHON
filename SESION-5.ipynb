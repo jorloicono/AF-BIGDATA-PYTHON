{
  "nbformat": 4,
  "nbformat_minor": 0,
  "metadata": {
    "colab": {
      "provenance": [],
      "authorship_tag": "ABX9TyNfw4GNVtuioHKkq9eF0s+2",
      "include_colab_link": true
    },
    "kernelspec": {
      "name": "python3",
      "display_name": "Python 3"
    },
    "language_info": {
      "name": "python"
    }
  },
  "cells": [
    {
      "cell_type": "markdown",
      "metadata": {
        "id": "view-in-github",
        "colab_type": "text"
      },
      "source": [
        "<a href=\"https://colab.research.google.com/github/jorloicono/AF-BIGDATA-PYTHON/blob/main/SESION_5.ipynb\" target=\"_parent\"><img src=\"https://colab.research.google.com/assets/colab-badge.svg\" alt=\"Open In Colab\"/></a>"
      ]
    },
    {
      "cell_type": "markdown",
      "source": [
        "REGRESIÓN LINEAL CON MLLIB"
      ],
      "metadata": {
        "id": "dh3AEiym3N7T"
      }
    },
    {
      "cell_type": "code",
      "execution_count": 2,
      "metadata": {
        "colab": {
          "base_uri": "https://localhost:8080/"
        },
        "id": "Z6O6qBddv4rj",
        "outputId": "2d408398-961b-489a-e105-0adfb807479f"
      },
      "outputs": [
        {
          "output_type": "stream",
          "name": "stdout",
          "text": [
            "Looking in indexes: https://pypi.org/simple, https://us-python.pkg.dev/colab-wheels/public/simple/\n",
            "Collecting findspark\n",
            "  Downloading findspark-2.0.1-py2.py3-none-any.whl (4.4 kB)\n",
            "Installing collected packages: findspark\n",
            "Successfully installed findspark-2.0.1\n"
          ]
        }
      ],
      "source": [
        "#!pip3 install pyspark==3.1.2\n",
        "!pip install findspark\n",
        "import findspark\n",
        "findspark.init()"
      ]
    },
    {
      "cell_type": "code",
      "source": [
        "import pandas as pd \n",
        "import matplotlib.pyplot as plt\n",
        "\n",
        "from pyspark import SparkContext, SparkConf\n",
        "from pyspark.sql import SparkSession"
      ],
      "metadata": {
        "id": "7hWK3fOB3nU3"
      },
      "execution_count": 3,
      "outputs": []
    },
    {
      "cell_type": "code",
      "source": [
        "sc = SparkContext()\n",
        "\n",
        "spark = SparkSession.builder.appName(\"ML\").config(\"spark.some.config.option\",\"some-value\").getOrCreate()\n",
        "\n",
        "spark"
      ],
      "metadata": {
        "colab": {
          "base_uri": "https://localhost:8080/",
          "height": 221
        },
        "id": "8BiH5XYi4Own",
        "outputId": "900b83f9-c61e-4675-d31f-ea183f79b519"
      },
      "execution_count": 4,
      "outputs": [
        {
          "output_type": "execute_result",
          "data": {
            "text/plain": [
              "<pyspark.sql.session.SparkSession at 0x7f4bfafdb4d0>"
            ],
            "text/html": [
              "\n",
              "            <div>\n",
              "                <p><b>SparkSession - in-memory</b></p>\n",
              "                \n",
              "        <div>\n",
              "            <p><b>SparkContext</b></p>\n",
              "\n",
              "            <p><a href=\"http://6e9e5d0481ec:4040\">Spark UI</a></p>\n",
              "\n",
              "            <dl>\n",
              "              <dt>Version</dt>\n",
              "                <dd><code>v3.1.2</code></dd>\n",
              "              <dt>Master</dt>\n",
              "                <dd><code>local[*]</code></dd>\n",
              "              <dt>AppName</dt>\n",
              "                <dd><code>pyspark-shell</code></dd>\n",
              "            </dl>\n",
              "        </div>\n",
              "        \n",
              "            </div>\n",
              "        "
            ]
          },
          "metadata": {},
          "execution_count": 4
        }
      ]
    },
    {
      "cell_type": "code",
      "source": [
        "from pyspark.ml.feature import VectorAssembler, Normalizer, StandardScaler\n",
        "from pyspark.ml.stat import Correlation\n",
        "from pyspark.ml.regression import LinearRegression"
      ],
      "metadata": {
        "id": "sR6aF7nH4uF7"
      },
      "execution_count": 5,
      "outputs": []
    },
    {
      "cell_type": "code",
      "source": [
        "cars2 = pd.read_csv('https://cf-courses-data.s3.us.cloud-object-storage.appdomain.cloud/IBM-BD0225EN-SkillsNetwork/labs/data/cars2.csv', header=None, names=[\"mpg\", \"hp\", \"weight\"])\n",
        "cars2.head()"
      ],
      "metadata": {
        "colab": {
          "base_uri": "https://localhost:8080/",
          "height": 206
        },
        "id": "gjALBP0W5bX0",
        "outputId": "6f8a56e6-8bce-4391-c2b9-46ec0c1d5ae6"
      },
      "execution_count": 6,
      "outputs": [
        {
          "output_type": "execute_result",
          "data": {
            "text/plain": [
              "    mpg     hp  weight\n",
              "0  18.0  130.0  3504.0\n",
              "1  15.0  165.0  3693.0\n",
              "2  18.0  150.0  3436.0\n",
              "3  16.0  150.0  3433.0\n",
              "4  17.0  140.0  3449.0"
            ],
            "text/html": [
              "\n",
              "  <div id=\"df-41100087-d295-44f1-99be-1947f823a304\">\n",
              "    <div class=\"colab-df-container\">\n",
              "      <div>\n",
              "<style scoped>\n",
              "    .dataframe tbody tr th:only-of-type {\n",
              "        vertical-align: middle;\n",
              "    }\n",
              "\n",
              "    .dataframe tbody tr th {\n",
              "        vertical-align: top;\n",
              "    }\n",
              "\n",
              "    .dataframe thead th {\n",
              "        text-align: right;\n",
              "    }\n",
              "</style>\n",
              "<table border=\"1\" class=\"dataframe\">\n",
              "  <thead>\n",
              "    <tr style=\"text-align: right;\">\n",
              "      <th></th>\n",
              "      <th>mpg</th>\n",
              "      <th>hp</th>\n",
              "      <th>weight</th>\n",
              "    </tr>\n",
              "  </thead>\n",
              "  <tbody>\n",
              "    <tr>\n",
              "      <th>0</th>\n",
              "      <td>18.0</td>\n",
              "      <td>130.0</td>\n",
              "      <td>3504.0</td>\n",
              "    </tr>\n",
              "    <tr>\n",
              "      <th>1</th>\n",
              "      <td>15.0</td>\n",
              "      <td>165.0</td>\n",
              "      <td>3693.0</td>\n",
              "    </tr>\n",
              "    <tr>\n",
              "      <th>2</th>\n",
              "      <td>18.0</td>\n",
              "      <td>150.0</td>\n",
              "      <td>3436.0</td>\n",
              "    </tr>\n",
              "    <tr>\n",
              "      <th>3</th>\n",
              "      <td>16.0</td>\n",
              "      <td>150.0</td>\n",
              "      <td>3433.0</td>\n",
              "    </tr>\n",
              "    <tr>\n",
              "      <th>4</th>\n",
              "      <td>17.0</td>\n",
              "      <td>140.0</td>\n",
              "      <td>3449.0</td>\n",
              "    </tr>\n",
              "  </tbody>\n",
              "</table>\n",
              "</div>\n",
              "      <button class=\"colab-df-convert\" onclick=\"convertToInteractive('df-41100087-d295-44f1-99be-1947f823a304')\"\n",
              "              title=\"Convert this dataframe to an interactive table.\"\n",
              "              style=\"display:none;\">\n",
              "        \n",
              "  <svg xmlns=\"http://www.w3.org/2000/svg\" height=\"24px\"viewBox=\"0 0 24 24\"\n",
              "       width=\"24px\">\n",
              "    <path d=\"M0 0h24v24H0V0z\" fill=\"none\"/>\n",
              "    <path d=\"M18.56 5.44l.94 2.06.94-2.06 2.06-.94-2.06-.94-.94-2.06-.94 2.06-2.06.94zm-11 1L8.5 8.5l.94-2.06 2.06-.94-2.06-.94L8.5 2.5l-.94 2.06-2.06.94zm10 10l.94 2.06.94-2.06 2.06-.94-2.06-.94-.94-2.06-.94 2.06-2.06.94z\"/><path d=\"M17.41 7.96l-1.37-1.37c-.4-.4-.92-.59-1.43-.59-.52 0-1.04.2-1.43.59L10.3 9.45l-7.72 7.72c-.78.78-.78 2.05 0 2.83L4 21.41c.39.39.9.59 1.41.59.51 0 1.02-.2 1.41-.59l7.78-7.78 2.81-2.81c.8-.78.8-2.07 0-2.86zM5.41 20L4 18.59l7.72-7.72 1.47 1.35L5.41 20z\"/>\n",
              "  </svg>\n",
              "      </button>\n",
              "      \n",
              "  <style>\n",
              "    .colab-df-container {\n",
              "      display:flex;\n",
              "      flex-wrap:wrap;\n",
              "      gap: 12px;\n",
              "    }\n",
              "\n",
              "    .colab-df-convert {\n",
              "      background-color: #E8F0FE;\n",
              "      border: none;\n",
              "      border-radius: 50%;\n",
              "      cursor: pointer;\n",
              "      display: none;\n",
              "      fill: #1967D2;\n",
              "      height: 32px;\n",
              "      padding: 0 0 0 0;\n",
              "      width: 32px;\n",
              "    }\n",
              "\n",
              "    .colab-df-convert:hover {\n",
              "      background-color: #E2EBFA;\n",
              "      box-shadow: 0px 1px 2px rgba(60, 64, 67, 0.3), 0px 1px 3px 1px rgba(60, 64, 67, 0.15);\n",
              "      fill: #174EA6;\n",
              "    }\n",
              "\n",
              "    [theme=dark] .colab-df-convert {\n",
              "      background-color: #3B4455;\n",
              "      fill: #D2E3FC;\n",
              "    }\n",
              "\n",
              "    [theme=dark] .colab-df-convert:hover {\n",
              "      background-color: #434B5C;\n",
              "      box-shadow: 0px 1px 3px 1px rgba(0, 0, 0, 0.15);\n",
              "      filter: drop-shadow(0px 1px 2px rgba(0, 0, 0, 0.3));\n",
              "      fill: #FFFFFF;\n",
              "    }\n",
              "  </style>\n",
              "\n",
              "      <script>\n",
              "        const buttonEl =\n",
              "          document.querySelector('#df-41100087-d295-44f1-99be-1947f823a304 button.colab-df-convert');\n",
              "        buttonEl.style.display =\n",
              "          google.colab.kernel.accessAllowed ? 'block' : 'none';\n",
              "\n",
              "        async function convertToInteractive(key) {\n",
              "          const element = document.querySelector('#df-41100087-d295-44f1-99be-1947f823a304');\n",
              "          const dataTable =\n",
              "            await google.colab.kernel.invokeFunction('convertToInteractive',\n",
              "                                                     [key], {});\n",
              "          if (!dataTable) return;\n",
              "\n",
              "          const docLinkHtml = 'Like what you see? Visit the ' +\n",
              "            '<a target=\"_blank\" href=https://colab.research.google.com/notebooks/data_table.ipynb>data table notebook</a>'\n",
              "            + ' to learn more about interactive tables.';\n",
              "          element.innerHTML = '';\n",
              "          dataTable['output_type'] = 'display_data';\n",
              "          await google.colab.output.renderOutput(dataTable, element);\n",
              "          const docLink = document.createElement('div');\n",
              "          docLink.innerHTML = docLinkHtml;\n",
              "          element.appendChild(docLink);\n",
              "        }\n",
              "      </script>\n",
              "    </div>\n",
              "  </div>\n",
              "  "
            ]
          },
          "metadata": {},
          "execution_count": 6
        }
      ]
    },
    {
      "cell_type": "code",
      "source": [
        "sdf = spark.createDataFrame(cars2)"
      ],
      "metadata": {
        "id": "wjGNfkuK55si"
      },
      "execution_count": 8,
      "outputs": []
    },
    {
      "cell_type": "code",
      "source": [
        "assembler = VectorAssembler(inputCols=[\"hp\",\"weight\"],outputCol=\"features\")\n",
        "\n",
        "output = assembler.transform(sdf).select(\"features\",\"mpg\")\n",
        "\n",
        "train, test = output.randomSplit([0.75, 0.25])"
      ],
      "metadata": {
        "id": "kIZjOjBs65J1"
      },
      "execution_count": 10,
      "outputs": []
    },
    {
      "cell_type": "code",
      "source": [
        "r1 = Correlation.corr(train, \"features\").head()\n",
        "print(r1)"
      ],
      "metadata": {
        "colab": {
          "base_uri": "https://localhost:8080/"
        },
        "id": "z9Y6aKTP97MD",
        "outputId": "2086d7d0-9e44-4d80-b7b4-76f768120a3c"
      },
      "execution_count": 14,
      "outputs": [
        {
          "output_type": "stream",
          "name": "stdout",
          "text": [
            "Row(pearson(features)=DenseMatrix(2, 2, [1.0, 0.8678, 0.8678, 1.0], False))\n"
          ]
        }
      ]
    },
    {
      "cell_type": "code",
      "source": [
        "plt.figure()\n",
        "plt.scatter(cars2[\"hp\"], cars2[\"weight\"])\n",
        "plt.xlabel(\"caballos\")\n",
        "plt.ylabel(\"weight\")\n",
        "plt.show()"
      ],
      "metadata": {
        "colab": {
          "base_uri": "https://localhost:8080/",
          "height": 279
        },
        "id": "KVXCfnRJ_Lb9",
        "outputId": "9c561e4b-2ebd-4bd4-bad0-1e3214804c98"
      },
      "execution_count": 15,
      "outputs": [
        {
          "output_type": "display_data",
          "data": {
            "text/plain": [
              "<Figure size 432x288 with 1 Axes>"
            ],
            "image/png": "[encoded data removed]"
          },
          "metadata": {
            "needs_background": "light"
          }
        }
      ]
    },
    {
      "cell_type": "code",
      "source": [
        "normalized = Normalizer(inputCol=\"features\", outputCol=\"features_normalized\", p=1.0 )\n",
        "\n",
        "train_norm = normalized.transform(train)\n",
        "\n",
        "train_norm.show(5)"
      ],
      "metadata": {
        "colab": {
          "base_uri": "https://localhost:8080/"
        },
        "id": "y2CQrT63Bbbf",
        "outputId": "d47bbbd4-ae21-4951-cc3d-4d2bfc3f0a1c"
      },
      "execution_count": 16,
      "outputs": [
        {
          "output_type": "stream",
          "name": "stdout",
          "text": [
            "+-------------+----+--------------------+\n",
            "|     features| mpg| features_normalized|\n",
            "+-------------+----+--------------------+\n",
            "|[46.0,1950.0]|26.0|[0.02304609218436...|\n",
            "|[49.0,1867.0]|29.0|[0.02557411273486...|\n",
            "|[52.0,1649.0]|31.0|[0.03057025279247...|\n",
            "|[52.0,2035.0]|29.0|[0.02491614758025...|\n",
            "|[53.0,1795.0]|33.0|[0.02867965367965...|\n",
            "+-------------+----+--------------------+\n",
            "only showing top 5 rows\n",
            "\n"
          ]
        }
      ]
    },
    {
      "cell_type": "code",
      "source": [
        "standard_scaler = StandardScaler(inputCol=\"features\", outputCol=\"features_scaled\")\n",
        "train_model = standard_scaler.fit(train)\n",
        "train_scaled = train_model.transform(train)\n",
        "train_scaled.show(5, truncate=False)\n",
        "test_scaled = train_model.transform(test)\n",
        "test_scaled.show(5, truncate=False)"
      ],
      "metadata": {
        "colab": {
          "base_uri": "https://localhost:8080/"
        },
        "id": "tDJ_A10SCAm8",
        "outputId": "3f24ebd0-99ff-4583-9407-051c5a6c27b2"
      },
      "execution_count": 17,
      "outputs": [
        {
          "output_type": "stream",
          "name": "stdout",
          "text": [
            "+-------------+----+---------------------------------------+\n",
            "|features     |mpg |features_scaled                        |\n",
            "+-------------+----+---------------------------------------+\n",
            "|[46.0,1950.0]|26.0|[1.1834806214718219,2.2410785206038866]|\n",
            "|[49.0,1867.0]|29.0|[1.2606641402634624,2.1456890245986955]|\n",
            "|[52.0,1649.0]|31.0|[1.3378476590551032,1.8951479387055432]|\n",
            "|[52.0,2035.0]|29.0|[1.3378476590551032,2.338766558681492] |\n",
            "|[53.0,1795.0]|33.0|[1.3635754986523165,2.062941509991783] |\n",
            "+-------------+----+---------------------------------------+\n",
            "only showing top 5 rows\n",
            "\n",
            "+-------------+----+---------------------------------------+\n",
            "|features     |mpg |features_scaled                        |\n",
            "+-------------+----+---------------------------------------+\n",
            "|[46.0,1835.0]|26.0|[1.1834806214718219,2.108912351440068] |\n",
            "|[54.0,2254.0]|23.0|[1.3893033382495301,2.5904569156108517]|\n",
            "|[60.0,1834.0]|27.0|[1.5436703758328112,2.1077630804038607]|\n",
            "|[65.0,1773.0]|31.0|[1.672309573818879,2.0376575471952263] |\n",
            "|[72.0,3158.0]|15.0|[1.8524044509993736,3.6293979323420893]|\n",
            "+-------------+----+---------------------------------------+\n",
            "only showing top 5 rows\n",
            "\n"
          ]
        }
      ]
    },
    {
      "cell_type": "code",
      "source": [
        "lr = LinearRegression(featuresCol=\"features_scaled\", labelCol = \"mpg\", maxIter=100)\n",
        "\n",
        "lrModel =lr.fit(train_scaled)\n",
        "\n",
        "print(lrModel.coefficients)\n",
        "print(lrModel.intercept)\n",
        "\n",
        "trainingSum = lrModel.summary\n",
        "\n",
        "print(trainingSum.r2)\n",
        "print(trainingSum.rootMeanSquaredError)"
      ],
      "metadata": {
        "colab": {
          "base_uri": "https://localhost:8080/"
        },
        "id": "S4xd7dHFCSxA",
        "outputId": "1f7e75a3-1238-4ec9-da76-2656917102d9"
      },
      "execution_count": 18,
      "outputs": [
        {
          "output_type": "stream",
          "name": "stdout",
          "text": [
            "[-1.85348913462913,-5.089701006065463]\n",
            "45.99498987050928\n",
            "0.7240140258467107\n",
            "4.167095592881394\n"
          ]
        }
      ]
    },
    {
      "cell_type": "code",
      "source": [
        "lrModel.transform(test_scaled).show(5)"
      ],
      "metadata": {
        "colab": {
          "base_uri": "https://localhost:8080/"
        },
        "id": "XB6dyTq2EbSq",
        "outputId": "165f17e1-5ebd-41f1-c37b-6ccc7e34bf1b"
      },
      "execution_count": 24,
      "outputs": [
        {
          "output_type": "stream",
          "name": "stdout",
          "text": [
            "+-------------+----+--------------------+-----------------+\n",
            "|     features| mpg|     features_scaled|       prediction|\n",
            "+-------------+----+--------------------+-----------------+\n",
            "|[46.0,1835.0]|26.0|[1.18348062147182...|33.06768808073873|\n",
            "|[54.0,2254.0]|23.0|[1.38930333824953...|30.23528005880601|\n",
            "|[60.0,1834.0]|27.0|[1.54367037583281...|32.40592973057513|\n",
            "|[65.0,1773.0]|31.0|[1.67230957381887...|32.52431457772329|\n",
            "|[72.0,3158.0]|15.0|[1.85240445099937...|24.08902803998986|\n",
            "+-------------+----+--------------------+-----------------+\n",
            "only showing top 5 rows\n",
            "\n"
          ]
        }
      ]
    },
    {
      "cell_type": "markdown",
      "source": [
        "REGRESIÓN LOGÍSTICA"
      ],
      "metadata": {
        "id": "O7egc9quZM8f"
      }
    },
    {
      "cell_type": "code",
      "source": [
        "data = spark.read.csv(\"/content/titanic.csv\", inferSchema = True, header = True)"
      ],
      "metadata": {
        "id": "_H5mAxyMREgt"
      },
      "execution_count": 25,
      "outputs": []
    },
    {
      "cell_type": "code",
      "source": [
        "data.columns"
      ],
      "metadata": {
        "colab": {
          "base_uri": "https://localhost:8080/"
        },
        "id": "R-n29z3vRqV9",
        "outputId": "39056252-fbc9-4590-c794-de37e4975757"
      },
      "execution_count": 26,
      "outputs": [
        {
          "output_type": "execute_result",
          "data": {
            "text/plain": [
              "['PassengerId',\n",
              " 'Survived',\n",
              " 'Pclass',\n",
              " 'Name',\n",
              " 'Sex',\n",
              " 'Age',\n",
              " 'SibSp',\n",
              " 'Parch',\n",
              " 'Ticket',\n",
              " 'Fare',\n",
              " 'Cabin',\n",
              " 'Embarked']"
            ]
          },
          "metadata": {},
          "execution_count": 26
        }
      ]
    },
    {
      "cell_type": "code",
      "source": [
        "my_cols = data.select([\n",
        " 'Survived',\n",
        " 'Pclass',\n",
        " 'Sex',\n",
        " 'Age',\n",
        " 'SibSp',\n",
        " 'Parch',\n",
        " 'Fare',\n",
        " 'Embarked'])\n",
        "\n",
        "my_final_data = my_cols.na.drop()\n",
        "\n"
      ],
      "metadata": {
        "id": "uyrUid-wSIM0"
      },
      "execution_count": 27,
      "outputs": []
    },
    {
      "cell_type": "code",
      "source": [
        "from pyspark.ml.feature import (VectorAssembler,VectorIndexer,\n",
        "                                OneHotEncoder,StringIndexer)\n",
        "\n",
        "gender_indexer = StringIndexer(inputCol='Sex',outputCol='SexIndex')\n",
        "gender_encoder = OneHotEncoder(inputCol='SexIndex',outputCol='SexVec')\n",
        "\n",
        "embark_indexer = StringIndexer(inputCol='Embarked',outputCol='EmbarkIndex')\n",
        "embark_encoder = OneHotEncoder(inputCol='EmbarkIndex',outputCol='EmbarkVec')\n",
        "\n",
        "assembler = VectorAssembler(inputCols=['Pclass',\n",
        " 'SexVec',\n",
        " 'Age',\n",
        " 'SibSp',\n",
        " 'Parch',\n",
        " 'Fare',\n",
        " 'EmbarkVec'],outputCol='features')\n",
        "\n",
        "from pyspark.ml.classification import LogisticRegression"
      ],
      "metadata": {
        "id": "h6GOzRyESuUu"
      },
      "execution_count": 28,
      "outputs": []
    },
    {
      "cell_type": "code",
      "source": [
        "from pyspark.ml import Pipeline\n",
        "\n",
        "log_reg_titanic = LogisticRegression(featuresCol=\"features\", labelCol=\"Survived\")\n",
        "\n",
        "pipeline = Pipeline(stages=[gender_indexer, gender_encoder, embark_indexer, embark_encoder, assembler, log_reg_titanic ])\n",
        "\n",
        "train, test = my_final_data.randomSplit([0.7, 0.3])\n",
        "\n",
        "fit = pipeline.fit(train)\n",
        "\n",
        "results =fit.transform(test)\n",
        "\n",
        "results.select(\"Survived\", \"prediction\").show()"
      ],
      "metadata": {
        "colab": {
          "base_uri": "https://localhost:8080/"
        },
        "id": "mUNM7g4hTscG",
        "outputId": "1a6e37cc-8a57-4077-e9f6-b05d3c456d17"
      },
      "execution_count": 29,
      "outputs": [
        {
          "output_type": "stream",
          "name": "stdout",
          "text": [
            "+--------+----------+\n",
            "|Survived|prediction|\n",
            "+--------+----------+\n",
            "|       0|       1.0|\n",
            "|       0|       0.0|\n",
            "|       0|       0.0|\n",
            "|       0|       0.0|\n",
            "|       0|       0.0|\n",
            "|       0|       0.0|\n",
            "|       0|       0.0|\n",
            "|       0|       0.0|\n",
            "|       0|       0.0|\n",
            "|       0|       0.0|\n",
            "|       0|       0.0|\n",
            "|       0|       0.0|\n",
            "|       0|       0.0|\n",
            "|       0|       1.0|\n",
            "|       0|       0.0|\n",
            "|       0|       0.0|\n",
            "|       0|       0.0|\n",
            "|       0|       0.0|\n",
            "|       0|       0.0|\n",
            "|       0|       0.0|\n",
            "+--------+----------+\n",
            "only showing top 20 rows\n",
            "\n"
          ]
        }
      ]
    },
    {
      "cell_type": "code",
      "source": [
        "from pyspark.ml.evaluation import BinaryClassificationEvaluator\n",
        "\n",
        "eval = BinaryClassificationEvaluator(rawPredictionCol=\"prediction\", labelCol=\"Survived\")\n",
        "\n",
        "auc = eval.evaluate(results)\n",
        "\n",
        "auc"
      ],
      "metadata": {
        "colab": {
          "base_uri": "https://localhost:8080/"
        },
        "id": "PO3KtHb4VSpb",
        "outputId": "9cf7eec9-03d0-4d0d-dd5f-8ac2ca59219a"
      },
      "execution_count": 30,
      "outputs": [
        {
          "output_type": "execute_result",
          "data": {
            "text/plain": [
              "0.7760552496860813"
            ]
          },
          "metadata": {},
          "execution_count": 30
        }
      ]
    },
    {
      "cell_type": "markdown",
      "source": [
        "DECISION TREE CLASSIFIER Y RANDOM FOREST"
      ],
      "metadata": {
        "id": "rQj0NH4iZRYJ"
      }
    },
    {
      "cell_type": "code",
      "source": [
        "data = spark.read.csv(\"/content/College.csv\", inferSchema = True, header = True)\n",
        "\n",
        "assembler = VectorAssembler(\n",
        "  inputCols=['Apps',\n",
        "             'Accept',\n",
        "             'Enroll',\n",
        "             'Top10perc',\n",
        "             'Top25perc',\n",
        "             'F_Undergrad',\n",
        "             'P_Undergrad',\n",
        "             'Outstate',\n",
        "             'Room_Board',\n",
        "             'Books',\n",
        "             'Personal',\n",
        "             'PhD',\n",
        "             'Terminal',\n",
        "             'S_F_Ratio',\n",
        "             'perc_alumni',\n",
        "             'Expend',\n",
        "             'Grad_Rate'],\n",
        "              outputCol=\"features\")\n",
        "\n",
        "output = assembler.transform(data)"
      ],
      "metadata": {
        "id": "Zc6mMSWxZXtO"
      },
      "execution_count": 32,
      "outputs": []
    },
    {
      "cell_type": "code",
      "source": [
        "indexer = StringIndexer(inputCol=\"Private\", outputCol=\"PrivateIndex\")\n",
        "\n",
        "outputfixed = indexer.fit(output).transform(output)\n",
        "\n",
        "finaldata = outputfixed.select(\"features\", \"PrivateIndex\")\n",
        "\n",
        "train, test = finaldata.randomSplit([0.7, 0.3])"
      ],
      "metadata": {
        "id": "Ncjr4IOWa8h2"
      },
      "execution_count": 33,
      "outputs": []
    },
    {
      "cell_type": "code",
      "source": [
        "from pyspark.ml.classification import DecisionTreeClassifier, RandomForestClassifier\n",
        "\n",
        "dt = DecisionTreeClassifier(labelCol=\"PrivateIndex\", featuresCol=\"features\")\n",
        "rf = RandomForestClassifier(labelCol=\"PrivateIndex\", featuresCol=\"features\")\n",
        "\n",
        "dtmodel = dt.fit(train)\n",
        "rfmodel = rf.fit(train)"
      ],
      "metadata": {
        "id": "TupS6ySEcHmg"
      },
      "execution_count": 34,
      "outputs": []
    },
    {
      "cell_type": "code",
      "source": [
        "dtpred =dtmodel.transform(test)\n",
        "rfpred = rfmodel.transform(test)\n",
        "\n",
        "from pyspark.ml.evaluation import MulticlassClassificationEvaluator\n",
        "\n",
        "acc_eval = MulticlassClassificationEvaluator(labelCol=\"PrivateIndex\", predictionCol=\"prediction\", metricName = \"accuracy\")\n",
        "\n",
        "dtacc = acc_eval.evaluate(dtpred)\n",
        "rfacc = acc_eval.evaluate(rfpred)"
      ],
      "metadata": {
        "id": "CUPMOmhycHeX"
      },
      "execution_count": 35,
      "outputs": []
    },
    {
      "cell_type": "code",
      "source": [
        "print(dtacc*100)\n",
        "print(rfacc*100)"
      ],
      "metadata": {
        "colab": {
          "base_uri": "https://localhost:8080/"
        },
        "id": "mElKPu4PeASr",
        "outputId": "b40a2ca8-e91c-453a-a39e-1286f025a8e2"
      },
      "execution_count": 36,
      "outputs": [
        {
          "output_type": "stream",
          "name": "stdout",
          "text": [
            "91.88034188034187\n",
            "93.58974358974359\n"
          ]
        }
      ]
    },
    {
      "cell_type": "markdown",
      "source": [
        "K-MEANS"
      ],
      "metadata": {
        "id": "ki1ndu4Wl5Mu"
      }
    },
    {
      "cell_type": "code",
      "source": [
        "dataset = spark.read.csv(\"/content/seeds_dataset.csv\", header =True, inferSchema =True)\n",
        "\n",
        "from pyspark.ml.clustering import KMeans\n",
        "\n",
        "vec_assembler = VectorAssembler(inputCols= dataset.columns, outputCol= \"features\")\n",
        "\n",
        "finaldata = vec_assembler.transform(dataset)\n",
        "\n",
        "scaler = StandardScaler(inputCol=\"features\", outputCol=\"scaledFeatures\", withStd=True, withMean=False)\n",
        "scalerModel = scaler.fit(finaldata)\n",
        "final_data = scalerModel.transform(finaldata)"
      ],
      "metadata": {
        "id": "zqJGzyeLl4pe"
      },
      "execution_count": 39,
      "outputs": []
    },
    {
      "cell_type": "code",
      "source": [
        "kmedias = KMeans(featuresCol=\"scaledFeatures\", k=3)\n",
        "\n",
        "model = kmedias.fit(final_data)\n",
        "\n",
        "centers = model.clusterCenters()\n",
        "\n",
        "for center in centers:\n",
        "  print(center)\n",
        "\n",
        "model.transform(final_data).select(\"prediction\").show()"
      ],
      "metadata": {
        "colab": {
          "base_uri": "https://localhost:8080/"
        },
        "id": "JG_VeRGUoZQB",
        "outputId": "2ee69f5a-847e-4ea7-b9ee-332bc739023a"
      },
      "execution_count": 42,
      "outputs": [
        {
          "output_type": "stream",
          "name": "stdout",
          "text": [
            "[ 4.96198582 10.97871333 37.30930808 12.44647267  8.62880781  1.80061978\n",
            " 10.41913733]\n",
            "[ 4.07497225 10.14410142 35.89816849 11.80812742  7.54416916  3.15410901\n",
            " 10.38031464]\n",
            "[ 6.35645488 12.40730852 37.41990178 13.93860446  9.7892399   2.41585013\n",
            " 12.29286107]\n",
            "+----------+\n",
            "|prediction|\n",
            "+----------+\n",
            "|         0|\n",
            "|         0|\n",
            "|         0|\n",
            "|         0|\n",
            "|         0|\n",
            "|         0|\n",
            "|         0|\n",
            "|         0|\n",
            "|         2|\n",
            "|         0|\n",
            "|         0|\n",
            "|         0|\n",
            "|         0|\n",
            "|         0|\n",
            "|         0|\n",
            "|         0|\n",
            "|         0|\n",
            "|         0|\n",
            "|         0|\n",
            "|         1|\n",
            "+----------+\n",
            "only showing top 20 rows\n",
            "\n"
          ]
        }
      ]
    },
    {
      "cell_type": "markdown",
      "source": [
        "SPARK STREAMING"
      ],
      "metadata": {
        "id": "-gEOpo_lp-jS"
      }
    },
    {
      "cell_type": "code",
      "source": [
        "from pyspark.sql.types import *\n",
        "\n",
        "schema = StructType([\n",
        "StructField(\"person_ID\",IntegerType(),True), \n",
        "StructField(\"name\",StringType(),True), \n",
        "StructField(\"first\",StringType(),True),\n",
        "StructField(\"last\", StringType(), True),\n",
        "StructField(\"middle\", StringType(), True),\n",
        "StructField(\"email\", StringType(), True),\n",
        "StructField(\"phone\", StringType(), True),\n",
        "StructField(\"fax\", StringType(), True),\n",
        "StructField(\"title\", StringType(), True)])\n",
        "\n",
        "people_df = spark.readStream.format(\"csv\").schema(schema).option(\"header\", True).load(\"streaming\")\n",
        "\n",
        "results_df = people_df.select(\"*\")\n",
        "\n",
        "query = (results_df.writeStream\n",
        ".format(\"json\")\n",
        ".queryName(\"selectTable\")\n",
        ".option(\"checkpointLocation\", \"checkpoint\")\n",
        ".option(\"path\", \"results\")\n",
        ".outputMode(\"append\")\n",
        ".start()\n",
        ".awaitTermination() \n",
        ")"
      ],
      "metadata": {
        "colab": {
          "base_uri": "https://localhost:8080/",
          "height": 389
        },
        "id": "oOBhHdZFqBWB",
        "outputId": "c5c9ef6c-04ae-4f98-98d6-3ae998acaac4"
      },
      "execution_count": 45,
      "outputs": [
        {
          "output_type": "error",
          "ename": "KeyboardInterrupt",
          "evalue": "ignored",
          "traceback": [
            "\u001b[0;31m---------------------------------------------------------------------------\u001b[0m",
            "\u001b[0;31mKeyboardInterrupt\u001b[0m                         Traceback (most recent call last)",
            "\u001b[0;32m<ipython-input-45-41a7c4d6a068>\u001b[0m in \u001b[0;36m<module>\u001b[0;34m\u001b[0m\n\u001b[1;32m     21\u001b[0m \u001b[0;34m.\u001b[0m\u001b[0moption\u001b[0m\u001b[0;34m(\u001b[0m\u001b[0;34m\"checkpointLocation\"\u001b[0m\u001b[0;34m,\u001b[0m \u001b[0;34m\"checkpoint\"\u001b[0m\u001b[0;34m)\u001b[0m\u001b[0;34m\u001b[0m\u001b[0;34m\u001b[0m\u001b[0m\n\u001b[1;32m     22\u001b[0m \u001b[0;34m.\u001b[0m\u001b[0moption\u001b[0m\u001b[0;34m(\u001b[0m\u001b[0;34m\"path\"\u001b[0m\u001b[0;34m,\u001b[0m \u001b[0;34m\"results\"\u001b[0m\u001b[0;34m)\u001b[0m\u001b[0;34m\u001b[0m\u001b[0;34m\u001b[0m\u001b[0m\n\u001b[0;32m---> 23\u001b[0;31m \u001b[0;34m.\u001b[0m\u001b[0moutputMode\u001b[0m\u001b[0;34m(\u001b[0m\u001b[0;34m\"append\"\u001b[0m\u001b[0;34m)\u001b[0m\u001b[0;34m\u001b[0m\u001b[0;34m\u001b[0m\u001b[0m\n\u001b[0m\u001b[1;32m     24\u001b[0m \u001b[0;34m.\u001b[0m\u001b[0mstart\u001b[0m\u001b[0;34m(\u001b[0m\u001b[0;34m)\u001b[0m\u001b[0;34m\u001b[0m\u001b[0;34m\u001b[0m\u001b[0m\n\u001b[1;32m     25\u001b[0m \u001b[0;34m.\u001b[0m\u001b[0mawaitTermination\u001b[0m\u001b[0;34m(\u001b[0m\u001b[0;34m)\u001b[0m\u001b[0;34m\u001b[0m\u001b[0;34m\u001b[0m\u001b[0m\n",
            "\u001b[0;32m/usr/local/lib/python3.7/dist-packages/pyspark/sql/streaming.py\u001b[0m in \u001b[0;36mawaitTermination\u001b[0;34m(self, timeout)\u001b[0m\n\u001b[1;32m     99\u001b[0m             \u001b[0;32mreturn\u001b[0m \u001b[0mself\u001b[0m\u001b[0;34m.\u001b[0m\u001b[0m_jsq\u001b[0m\u001b[0;34m.\u001b[0m\u001b[0mawaitTermination\u001b[0m\u001b[0;34m(\u001b[0m\u001b[0mint\u001b[0m\u001b[0;34m(\u001b[0m\u001b[0mtimeout\u001b[0m \u001b[0;34m*\u001b[0m \u001b[0;36m1000\u001b[0m\u001b[0;34m)\u001b[0m\u001b[0;34m)\u001b[0m\u001b[0;34m\u001b[0m\u001b[0;34m\u001b[0m\u001b[0m\n\u001b[1;32m    100\u001b[0m         \u001b[0;32melse\u001b[0m\u001b[0;34m:\u001b[0m\u001b[0;34m\u001b[0m\u001b[0;34m\u001b[0m\u001b[0m\n\u001b[0;32m--> 101\u001b[0;31m             \u001b[0;32mreturn\u001b[0m \u001b[0mself\u001b[0m\u001b[0;34m.\u001b[0m\u001b[0m_jsq\u001b[0m\u001b[0;34m.\u001b[0m\u001b[0mawaitTermination\u001b[0m\u001b[0;34m(\u001b[0m\u001b[0;34m)\u001b[0m\u001b[0;34m\u001b[0m\u001b[0;34m\u001b[0m\u001b[0m\n\u001b[0m\u001b[1;32m    102\u001b[0m \u001b[0;34m\u001b[0m\u001b[0m\n\u001b[1;32m    103\u001b[0m     \u001b[0;34m@\u001b[0m\u001b[0mproperty\u001b[0m\u001b[0;34m\u001b[0m\u001b[0;34m\u001b[0m\u001b[0m\n",
            "\u001b[0;32m/usr/local/lib/python3.7/dist-packages/py4j/java_gateway.py\u001b[0m in \u001b[0;36m__call__\u001b[0;34m(self, *args)\u001b[0m\n\u001b[1;32m   1301\u001b[0m             \u001b[0mproto\u001b[0m\u001b[0;34m.\u001b[0m\u001b[0mEND_COMMAND_PART\u001b[0m\u001b[0;34m\u001b[0m\u001b[0;34m\u001b[0m\u001b[0m\n\u001b[1;32m   1302\u001b[0m \u001b[0;34m\u001b[0m\u001b[0m\n\u001b[0;32m-> 1303\u001b[0;31m         \u001b[0manswer\u001b[0m \u001b[0;34m=\u001b[0m \u001b[0mself\u001b[0m\u001b[0;34m.\u001b[0m\u001b[0mgateway_client\u001b[0m\u001b[0;34m.\u001b[0m\u001b[0msend_command\u001b[0m\u001b[0;34m(\u001b[0m\u001b[0mcommand\u001b[0m\u001b[0;34m)\u001b[0m\u001b[0;34m\u001b[0m\u001b[0;34m\u001b[0m\u001b[0m\n\u001b[0m\u001b[1;32m   1304\u001b[0m         return_value = get_return_value(\n\u001b[1;32m   1305\u001b[0m             answer, self.gateway_client, self.target_id, self.name)\n",
            "\u001b[0;32m/usr/local/lib/python3.7/dist-packages/py4j/java_gateway.py\u001b[0m in \u001b[0;36msend_command\u001b[0;34m(self, command, retry, binary)\u001b[0m\n\u001b[1;32m   1031\u001b[0m         \u001b[0mconnection\u001b[0m \u001b[0;34m=\u001b[0m \u001b[0mself\u001b[0m\u001b[0;34m.\u001b[0m\u001b[0m_get_connection\u001b[0m\u001b[0;34m(\u001b[0m\u001b[0;34m)\u001b[0m\u001b[0;34m\u001b[0m\u001b[0;34m\u001b[0m\u001b[0m\n\u001b[1;32m   1032\u001b[0m         \u001b[0;32mtry\u001b[0m\u001b[0;34m:\u001b[0m\u001b[0;34m\u001b[0m\u001b[0;34m\u001b[0m\u001b[0m\n\u001b[0;32m-> 1033\u001b[0;31m             \u001b[0mresponse\u001b[0m \u001b[0;34m=\u001b[0m \u001b[0mconnection\u001b[0m\u001b[0;34m.\u001b[0m\u001b[0msend_command\u001b[0m\u001b[0;34m(\u001b[0m\u001b[0mcommand\u001b[0m\u001b[0;34m)\u001b[0m\u001b[0;34m\u001b[0m\u001b[0;34m\u001b[0m\u001b[0m\n\u001b[0m\u001b[1;32m   1034\u001b[0m             \u001b[0;32mif\u001b[0m \u001b[0mbinary\u001b[0m\u001b[0;34m:\u001b[0m\u001b[0;34m\u001b[0m\u001b[0;34m\u001b[0m\u001b[0m\n\u001b[1;32m   1035\u001b[0m                 \u001b[0;32mreturn\u001b[0m \u001b[0mresponse\u001b[0m\u001b[0;34m,\u001b[0m \u001b[0mself\u001b[0m\u001b[0;34m.\u001b[0m\u001b[0m_create_connection_guard\u001b[0m\u001b[0;34m(\u001b[0m\u001b[0mconnection\u001b[0m\u001b[0;34m)\u001b[0m\u001b[0;34m\u001b[0m\u001b[0;34m\u001b[0m\u001b[0m\n",
            "\u001b[0;32m/usr/local/lib/python3.7/dist-packages/py4j/java_gateway.py\u001b[0m in \u001b[0;36msend_command\u001b[0;34m(self, command)\u001b[0m\n\u001b[1;32m   1198\u001b[0m \u001b[0;34m\u001b[0m\u001b[0m\n\u001b[1;32m   1199\u001b[0m         \u001b[0;32mtry\u001b[0m\u001b[0;34m:\u001b[0m\u001b[0;34m\u001b[0m\u001b[0;34m\u001b[0m\u001b[0m\n\u001b[0;32m-> 1200\u001b[0;31m             \u001b[0manswer\u001b[0m \u001b[0;34m=\u001b[0m \u001b[0msmart_decode\u001b[0m\u001b[0;34m(\u001b[0m\u001b[0mself\u001b[0m\u001b[0;34m.\u001b[0m\u001b[0mstream\u001b[0m\u001b[0;34m.\u001b[0m\u001b[0mreadline\u001b[0m\u001b[0;34m(\u001b[0m\u001b[0;34m)\u001b[0m\u001b[0;34m[\u001b[0m\u001b[0;34m:\u001b[0m\u001b[0;34m-\u001b[0m\u001b[0;36m1\u001b[0m\u001b[0;34m]\u001b[0m\u001b[0;34m)\u001b[0m\u001b[0;34m\u001b[0m\u001b[0;34m\u001b[0m\u001b[0m\n\u001b[0m\u001b[1;32m   1201\u001b[0m             \u001b[0mlogger\u001b[0m\u001b[0;34m.\u001b[0m\u001b[0mdebug\u001b[0m\u001b[0;34m(\u001b[0m\u001b[0;34m\"Answer received: {0}\"\u001b[0m\u001b[0;34m.\u001b[0m\u001b[0mformat\u001b[0m\u001b[0;34m(\u001b[0m\u001b[0manswer\u001b[0m\u001b[0;34m)\u001b[0m\u001b[0;34m)\u001b[0m\u001b[0;34m\u001b[0m\u001b[0;34m\u001b[0m\u001b[0m\n\u001b[1;32m   1202\u001b[0m             \u001b[0;32mif\u001b[0m \u001b[0manswer\u001b[0m\u001b[0;34m.\u001b[0m\u001b[0mstartswith\u001b[0m\u001b[0;34m(\u001b[0m\u001b[0mproto\u001b[0m\u001b[0;34m.\u001b[0m\u001b[0mRETURN_MESSAGE\u001b[0m\u001b[0;34m)\u001b[0m\u001b[0;34m:\u001b[0m\u001b[0;34m\u001b[0m\u001b[0;34m\u001b[0m\u001b[0m\n",
            "\u001b[0;32m/usr/lib/python3.7/socket.py\u001b[0m in \u001b[0;36mreadinto\u001b[0;34m(self, b)\u001b[0m\n\u001b[1;32m    587\u001b[0m         \u001b[0;32mwhile\u001b[0m \u001b[0;32mTrue\u001b[0m\u001b[0;34m:\u001b[0m\u001b[0;34m\u001b[0m\u001b[0;34m\u001b[0m\u001b[0m\n\u001b[1;32m    588\u001b[0m             \u001b[0;32mtry\u001b[0m\u001b[0;34m:\u001b[0m\u001b[0;34m\u001b[0m\u001b[0;34m\u001b[0m\u001b[0m\n\u001b[0;32m--> 589\u001b[0;31m                 \u001b[0;32mreturn\u001b[0m \u001b[0mself\u001b[0m\u001b[0;34m.\u001b[0m\u001b[0m_sock\u001b[0m\u001b[0;34m.\u001b[0m\u001b[0mrecv_into\u001b[0m\u001b[0;34m(\u001b[0m\u001b[0mb\u001b[0m\u001b[0;34m)\u001b[0m\u001b[0;34m\u001b[0m\u001b[0;34m\u001b[0m\u001b[0m\n\u001b[0m\u001b[1;32m    590\u001b[0m             \u001b[0;32mexcept\u001b[0m \u001b[0mtimeout\u001b[0m\u001b[0;34m:\u001b[0m\u001b[0;34m\u001b[0m\u001b[0;34m\u001b[0m\u001b[0m\n\u001b[1;32m    591\u001b[0m                 \u001b[0mself\u001b[0m\u001b[0;34m.\u001b[0m\u001b[0m_timeout_occurred\u001b[0m \u001b[0;34m=\u001b[0m \u001b[0;32mTrue\u001b[0m\u001b[0;34m\u001b[0m\u001b[0;34m\u001b[0m\u001b[0m\n",
            "\u001b[0;31mKeyboardInterrupt\u001b[0m: "
          ]
        }
      ]
    }
  ]
}
