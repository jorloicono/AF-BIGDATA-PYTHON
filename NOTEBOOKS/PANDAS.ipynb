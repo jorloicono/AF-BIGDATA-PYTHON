{
  "nbformat": 4,
  "nbformat_minor": 0,
  "metadata": {
    "colab": {
      "provenance": []
    },
    "kernelspec": {
      "name": "python3",
      "display_name": "Python 3"
    },
    "language_info": {
      "name": "python"
    }
  },
  "cells": [
    {
      "cell_type": "markdown",
      "source": [
        "## Series"
      ],
      "metadata": {
        "id": "S7Wxtf84ppTd"
      }
    },
    {
      "cell_type": "code",
      "source": [
        "import pandas as pd\n",
        "\n",
        "# crear la serie a partir de una lista\n",
        "data = ['Juan', 'Pedro', 'Estefania', 'Ana', 'Esteban']\n",
        "serie = pd.Series(data, dtype=\"string\")\n",
        "print(serie)\n",
        "\n",
        "print(\"longitud:\",serie.size)\n",
        "\n",
        "print(\"indices:\",serie.index)\n",
        "\n",
        "# acceder a un elemento por su indice\n",
        "print(serie[2])\n",
        "\n",
        "# aplicar funciones lamba\n",
        "serie = serie.apply(lambda nombre: nombre.upper())\n",
        "print(serie)\n",
        "\n",
        "# filtrar serie\n",
        "serie = serie[(serie == 'PEDRO') | (serie == 'JUAN')]\n",
        "print(serie)"
      ],
      "metadata": {
        "id": "CqtnrLPfpq4f"
      },
      "execution_count": null,
      "outputs": []
    },
    {
      "cell_type": "markdown",
      "source": [
        "## DataFrame"
      ],
      "metadata": {
        "id": "mFutXFZRprwm"
      }
    },
    {
      "cell_type": "code",
      "source": [
        "# crear el dataframe\n",
        "data = [ ['Juan', 4.5], ['Pedro', 8.9], ['Estefania', 1.4], ['Ana', 5.6], ['Esteban', 7.8]]\n",
        "columnasNombres = ['Nombre', 'Nota']\n",
        "filas = list(range(5))\n",
        "df = pd.DataFrame(data,columns=columnasNombres, index=filas)\n",
        "print(df)\n",
        "\n",
        "# obtener informacion\n",
        "print(\"Info\", df.info)\n",
        "print(\"Shape\", df.shape)\n",
        "print(\"Size\", df.size)\n",
        "print(\"Nombres de las columnas\", df.columns)\n",
        "print(\"Nombres de indices\", df.index)\n",
        "print(\"solo 2 filas\", df.head(2))\n",
        "\n",
        "\n",
        "# acceder a los datos\n",
        "print(\"Nota de Esteban\", df.iloc[4,1])\n",
        "print(\"Estefania\", df.loc[2])\n",
        "print(\"Notas\", df['Nota'])\n",
        "\n",
        "# Añadir una columna\n",
        "resultado = ['Suspenso', 'Aprobado', 'Suspenso', 'Aprobado', 'Aprobado']\n",
        "df.insert(loc=2, column=\"Resultado\", value=resultado)\n",
        "print(df)\n",
        "\n",
        "# Añadir una fila\n",
        "data = [['Maria', 4.5, 'Suspenso'], ['Antonio', 8.9, 'Aprobado']]\n",
        "columnasNombres = ['Nombre','Nota','Resultado']\n",
        "filas = [0,1]\n",
        "\n",
        "otro_df = pd.DataFrame(data, columns=columnasNombres, index=filas)\n",
        "otro_df = df.append(otro_df, ignore_index=True)\n",
        "print(otro_df)\n",
        "\n",
        "print(otro_df.groupby('Resultado').count())"
      ],
      "metadata": {
        "id": "cEq73XaspwA5"
      },
      "execution_count": null,
      "outputs": []
    }
  ]
}