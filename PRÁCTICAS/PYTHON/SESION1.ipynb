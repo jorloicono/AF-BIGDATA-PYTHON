{
  "nbformat": 4,
  "nbformat_minor": 0,
  "metadata": {
    "colab": {
      "provenance": [],
      "authorship_tag": "ABX9TyNwn7yifxaQgOdXQmsSxFzU",
      "include_colab_link": true
    },
    "kernelspec": {
      "name": "python3",
      "display_name": "Python 3"
    },
    "language_info": {
      "name": "python"
    }
  },
  "cells": [
    {
      "cell_type": "markdown",
      "metadata": {
        "id": "view-in-github",
        "colab_type": "text"
      },
      "source": [
        "<a href=\"https://colab.research.google.com/github/jorloicono/AF-BIGDATA-PYTHON/blob/main/PR%C3%81CTICAS/SESION1.ipynb\" target=\"_parent\"><img src=\"https://colab.research.google.com/assets/colab-badge.svg\" alt=\"Open In Colab\"/></a>"
      ]
    },
    {
      "cell_type": "markdown",
      "source": [
        "ELEMENTOS SINTÁCTICOS DEL LENGUAJE"
      ],
      "metadata": {
        "id": "MED3j2jkvAyu"
      }
    },
    {
      "cell_type": "code",
      "source": [
        "A=3\n",
        "B='casa'\n",
        "C = ' grande'\n",
        "D= 9.234\n",
        "E=True\n",
        "\n",
        "print(B+C)\n",
        "\n",
        "print(type(B))\n",
        "print(type(D))\n",
        "print(type(E))"
      ],
      "metadata": {
        "colab": {
          "base_uri": "https://localhost:8080/"
        },
        "id": "nrxmRAO8vGhl",
        "outputId": "22c2764d-9ebc-4a7f-c954-d5864bd2d57c"
      },
      "execution_count": 10,
      "outputs": [
        {
          "output_type": "stream",
          "name": "stdout",
          "text": [
            "casa grande\n",
            "<class 'str'>\n",
            "<class 'float'>\n",
            "<class 'bool'>\n"
          ]
        }
      ]
    },
    {
      "cell_type": "code",
      "source": [
        "sumando1 = input(\"Introduzca el primer sumando: \")\n",
        "sumando2 = input(\"Introduzca el segundo sumando: \")\n",
        "\n",
        "\n",
        "print(\"Resultado: \", int(sumando1) + int(sumando2))"
      ],
      "metadata": {
        "colab": {
          "base_uri": "https://localhost:8080/"
        },
        "id": "-GKGQV6bwdyz",
        "outputId": "943a8b80-cfd9-411c-e6df-f2eff858432f"
      },
      "execution_count": 16,
      "outputs": [
        {
          "output_type": "stream",
          "name": "stdout",
          "text": [
            "Introduzca el primer sumando: 2\n",
            "Introduzca el segundo sumando: 3\n",
            "Resultado:  5\n"
          ]
        }
      ]
    },
    {
      "cell_type": "code",
      "source": [
        "sumando1 = float(input(\"Introduzca el primer sumando: \"))\n",
        "sumando2 = float(input(\"Introduzca el segundo sumando: \"))\n",
        "\n",
        "\n",
        "print(\"Resultado: \", sumando1 + sumando2)"
      ],
      "metadata": {
        "colab": {
          "base_uri": "https://localhost:8080/"
        },
        "id": "4OfYYPKByShh",
        "outputId": "29065a17-93e0-4f7e-a867-cb072f04e351"
      },
      "execution_count": 12,
      "outputs": [
        {
          "output_type": "stream",
          "name": "stdout",
          "text": [
            "Introduzca el primer sumando: 5.435\n",
            "Introduzca el segundo sumando: 2.234534\n",
            "Resultado:  7.669534\n"
          ]
        }
      ]
    },
    {
      "cell_type": "code",
      "source": [
        "print(\"Juan\", \"Jose\", \"Pedro\", \"Antonio\", sep = ', ', end = '.')"
      ],
      "metadata": {
        "colab": {
          "base_uri": "https://localhost:8080/"
        },
        "id": "O2nXHEuJygem",
        "outputId": "0356287b-536a-4e73-9d19-49268f8e2412"
      },
      "execution_count": 21,
      "outputs": [
        {
          "output_type": "stream",
          "name": "stdout",
          "text": [
            "Juan, Jose, Pedro, Antonio."
          ]
        }
      ]
    },
    {
      "cell_type": "code",
      "source": [
        "texto = \"Curso de Python\"\n",
        "\n",
        "print(texto.capitalize())\n",
        "print(texto.isalpha())\n",
        "print(texto.upper())\n",
        "print(texto.lower())\n",
        "print(texto.islower())\n",
        "\n",
        "print(len(texto))\n",
        "print(max(texto))\n",
        "print(min(texto))\n",
        "\n",
        "print(texto.replace('e','E'))\n",
        "print(texto.split())\n",
        "\n",
        "print(\"22/11/2022\".split('/'))\n",
        "datos= \"22/11/2022\".split('/')\n",
        "dia = datos[0]\n",
        "mes = datos[1]\n",
        "año = datos[2]\n",
        "print(dia)"
      ],
      "metadata": {
        "colab": {
          "base_uri": "https://localhost:8080/"
        },
        "id": "A4Y_s24_0ApV",
        "outputId": "d97ee68b-c7a1-4fd7-f7eb-e0a4e92de2a6"
      },
      "execution_count": 38,
      "outputs": [
        {
          "output_type": "stream",
          "name": "stdout",
          "text": [
            "Curso de python\n",
            "False\n",
            "CURSO DE PYTHON\n",
            "curso de python\n",
            "False\n",
            "15\n",
            "y\n",
            " \n",
            "Curso dE Python\n",
            "['Curso', 'de', 'Python']\n",
            "['22', '11', '2022']\n",
            "22\n"
          ]
        }
      ]
    },
    {
      "cell_type": "code",
      "source": [
        "numero1 = 2\n",
        "numero2 = 3\n",
        "\n",
        "print(numero1 + numero2)\n",
        "\n",
        "print(numero1 % numero2)\n",
        "\n",
        "print(numero1 // numero2)\n",
        "\n",
        "numero1 = numero1 + 1\n",
        "numero1 += 1\n",
        "\n",
        "print(numero1)"
      ],
      "metadata": {
        "colab": {
          "base_uri": "https://localhost:8080/"
        },
        "id": "L-eX4rba2NJ2",
        "outputId": "262b8f56-3dbb-4c52-bf7b-a52edfc39b96"
      },
      "execution_count": 40,
      "outputs": [
        {
          "output_type": "stream",
          "name": "stdout",
          "text": [
            "5\n",
            "2\n",
            "0\n",
            "4\n"
          ]
        }
      ]
    },
    {
      "cell_type": "code",
      "source": [
        "numero1 = 7\n",
        "numero2 = 5\n",
        "\n",
        "print(\"Menor:\", numero1 < numero2)\n",
        "print(\"Igual:\", numero1 == numero2)\n",
        "print(\"Diferente:\", numero1 != numero2)\n",
        "\n",
        "print(\"not:\", not(numero1 < numero2))\n",
        "print(\"and:\", (numero1 < numero2) and (numero2 == 5))\n",
        "print(\"or:\", (numero1 < numero2) or (numero2 == 5))"
      ],
      "metadata": {
        "colab": {
          "base_uri": "https://localhost:8080/"
        },
        "id": "pYLIX3RI3Gz_",
        "outputId": "247a93d5-88b6-4448-98ff-bf9627412784"
      },
      "execution_count": 42,
      "outputs": [
        {
          "output_type": "stream",
          "name": "stdout",
          "text": [
            "Menor: False\n",
            "Igual: False\n",
            "Diferente: True\n",
            "not: True\n",
            "and: False\n",
            "or: True\n"
          ]
        }
      ]
    },
    {
      "cell_type": "code",
      "source": [
        "num1 = 6\n",
        "num2 = 6\n",
        "print(\"Mismo contenido?\", num1 is num2) # True porque la variable contiene el numero\n",
        "\n",
        "nombres1 = ['Juan', 'Maria']\n",
        "nombres2 = ['Juan', 'Maria']\n",
        "print(\"Mismo contenido?\", nombres1 is nombres2) # False porque los objetos son diferentes\n",
        "\n",
        "name1 = 'Jorge'\n",
        "name2 = 'Jorge'\n",
        "print(\"Mismo contenido?\", name1 is name2) # True porque los str en Python son tipos basicos\n",
        "\n",
        "print(\"in\", 'Luis' in nombres1)\n",
        "print(\"in\", 'Maria' in nombres1)\n",
        "print(\"not in\", 'Luis' not in nombres1)"
      ],
      "metadata": {
        "colab": {
          "base_uri": "https://localhost:8080/"
        },
        "id": "yQezh-hs3w9d",
        "outputId": "46860ac9-3ef4-416d-c59b-f0b9bfaaad88"
      },
      "execution_count": 44,
      "outputs": [
        {
          "output_type": "stream",
          "name": "stdout",
          "text": [
            "Mismo contenido? True\n",
            "Mismo contenido? False\n",
            "Mismo contenido? True\n",
            "in False\n",
            "in True\n",
            "not in True\n"
          ]
        }
      ]
    },
    {
      "cell_type": "code",
      "source": [
        "numero = int(input(\"Introduce un numero entre 1 y el 10: \"))\n",
        "\n",
        "if numero < 1 : \n",
        "  print(\"El numero no puede ser menor que 1\")\n",
        "else: \n",
        "  if numero > 10 :\n",
        "    print(\"El numero no puede ser mayor que 10\")\n",
        "  else : \n",
        "    print(\"Bien!\")"
      ],
      "metadata": {
        "colab": {
          "base_uri": "https://localhost:8080/"
        },
        "id": "7ZnKitDv46yl",
        "outputId": "9e18482d-777c-4c84-df4b-f99874f6ee46"
      },
      "execution_count": 47,
      "outputs": [
        {
          "output_type": "stream",
          "name": "stdout",
          "text": [
            "Introduce un numero entre 1 y el 10: 5\n",
            "Bien!\n"
          ]
        }
      ]
    },
    {
      "cell_type": "code",
      "source": [
        "numero = int(input(\"Introduce un numero entre 1 y el 10: \"))\n",
        "\n",
        "if numero < 1 : \n",
        "  print(\"El numero no puede ser menor que 1\")\n",
        "elif numero > 30 :\n",
        "  print(\"El numero no puede ser mayor que 10. Te has pasado por mucho!!!\")\n",
        "elif numero > 10 :\n",
        "  print(\"El numero no puede ser mayor que 10\")\n",
        "else : \n",
        "  print(\"Bien!\")"
      ],
      "metadata": {
        "colab": {
          "base_uri": "https://localhost:8080/"
        },
        "id": "cEprlfmh5osQ",
        "outputId": "8c39b9cd-3e35-4c72-de8c-ff476aec4548"
      },
      "execution_count": 50,
      "outputs": [
        {
          "output_type": "stream",
          "name": "stdout",
          "text": [
            "Introduce un numero entre 1 y el 10: 67\n",
            "El numero no puede ser mayor que 10. Te has pasado por mucho!!!\n"
          ]
        }
      ]
    },
    {
      "cell_type": "code",
      "source": [
        "nombres = [\"Luis\", \"Jorge\", \"Maria\", \"Laura\", \"Pedro\"]\n",
        "\n",
        "for item in nombres :\n",
        "    print(item)\n",
        "print(\"------------  FIN ----------\")\n",
        "\n",
        "for numero in range(10): # Rango va de 0 al numero-1\n",
        "    print(numero)\n",
        "print(\"------------  FIN ----------\")\n",
        "\n",
        "for numero in range(1,11): \n",
        "    print(numero)\n",
        "print(\"------------  FIN ----------\")\n",
        "for numero in range(0, 10, 2): \n",
        "    print(numero)\n",
        "print(\"------------  FIN ----------\")\n",
        "for i in range(len(nombres)): \n",
        "    print(nombres[i])\n",
        "print(\"------------  FIN ----------\")"
      ],
      "metadata": {
        "colab": {
          "base_uri": "https://localhost:8080/"
        },
        "id": "ln1NGHZD6ZCN",
        "outputId": "a90f7ad2-01b9-4942-a802-ad4b9a5ba535"
      },
      "execution_count": 55,
      "outputs": [
        {
          "output_type": "stream",
          "name": "stdout",
          "text": [
            "Luis\n",
            "Jorge\n",
            "Maria\n",
            "Laura\n",
            "Pedro\n",
            "------------  FIN ----------\n",
            "0\n",
            "1\n",
            "2\n",
            "3\n",
            "4\n",
            "5\n",
            "6\n",
            "7\n",
            "8\n",
            "9\n",
            "------------  FIN ----------\n",
            "1\n",
            "2\n",
            "3\n",
            "4\n",
            "5\n",
            "6\n",
            "7\n",
            "8\n",
            "9\n",
            "10\n",
            "------------  FIN ----------\n",
            "0\n",
            "2\n",
            "4\n",
            "6\n",
            "8\n",
            "------------  FIN ----------\n",
            "Luis\n",
            "Jorge\n",
            "Maria\n",
            "Laura\n",
            "Pedro\n",
            "------------  FIN ----------\n"
          ]
        }
      ]
    },
    {
      "cell_type": "code",
      "source": [
        "for tabla in range(10,0,-1):\n",
        "  print(\"**** Tabla del \", tabla, \" ****\")\n",
        "  for num in range(1,11):\n",
        "    print(tabla,\"*\",num,\"=\",tabla*num)\n",
        "  print()"
      ],
      "metadata": {
        "colab": {
          "base_uri": "https://localhost:8080/"
        },
        "id": "l2h76qA27Rsb",
        "outputId": "f6b58919-1751-4e7e-88e4-d635c4b48c7f"
      },
      "execution_count": 56,
      "outputs": [
        {
          "output_type": "stream",
          "name": "stdout",
          "text": [
            "**** Tabla del  10  ****\n",
            "10 * 1 = 10\n",
            "10 * 2 = 20\n",
            "10 * 3 = 30\n",
            "10 * 4 = 40\n",
            "10 * 5 = 50\n",
            "10 * 6 = 60\n",
            "10 * 7 = 70\n",
            "10 * 8 = 80\n",
            "10 * 9 = 90\n",
            "10 * 10 = 100\n",
            "\n",
            "**** Tabla del  9  ****\n",
            "9 * 1 = 9\n",
            "9 * 2 = 18\n",
            "9 * 3 = 27\n",
            "9 * 4 = 36\n",
            "9 * 5 = 45\n",
            "9 * 6 = 54\n",
            "9 * 7 = 63\n",
            "9 * 8 = 72\n",
            "9 * 9 = 81\n",
            "9 * 10 = 90\n",
            "\n",
            "**** Tabla del  8  ****\n",
            "8 * 1 = 8\n",
            "8 * 2 = 16\n",
            "8 * 3 = 24\n",
            "8 * 4 = 32\n",
            "8 * 5 = 40\n",
            "8 * 6 = 48\n",
            "8 * 7 = 56\n",
            "8 * 8 = 64\n",
            "8 * 9 = 72\n",
            "8 * 10 = 80\n",
            "\n",
            "**** Tabla del  7  ****\n",
            "7 * 1 = 7\n",
            "7 * 2 = 14\n",
            "7 * 3 = 21\n",
            "7 * 4 = 28\n",
            "7 * 5 = 35\n",
            "7 * 6 = 42\n",
            "7 * 7 = 49\n",
            "7 * 8 = 56\n",
            "7 * 9 = 63\n",
            "7 * 10 = 70\n",
            "\n",
            "**** Tabla del  6  ****\n",
            "6 * 1 = 6\n",
            "6 * 2 = 12\n",
            "6 * 3 = 18\n",
            "6 * 4 = 24\n",
            "6 * 5 = 30\n",
            "6 * 6 = 36\n",
            "6 * 7 = 42\n",
            "6 * 8 = 48\n",
            "6 * 9 = 54\n",
            "6 * 10 = 60\n",
            "\n",
            "**** Tabla del  5  ****\n",
            "5 * 1 = 5\n",
            "5 * 2 = 10\n",
            "5 * 3 = 15\n",
            "5 * 4 = 20\n",
            "5 * 5 = 25\n",
            "5 * 6 = 30\n",
            "5 * 7 = 35\n",
            "5 * 8 = 40\n",
            "5 * 9 = 45\n",
            "5 * 10 = 50\n",
            "\n",
            "**** Tabla del  4  ****\n",
            "4 * 1 = 4\n",
            "4 * 2 = 8\n",
            "4 * 3 = 12\n",
            "4 * 4 = 16\n",
            "4 * 5 = 20\n",
            "4 * 6 = 24\n",
            "4 * 7 = 28\n",
            "4 * 8 = 32\n",
            "4 * 9 = 36\n",
            "4 * 10 = 40\n",
            "\n",
            "**** Tabla del  3  ****\n",
            "3 * 1 = 3\n",
            "3 * 2 = 6\n",
            "3 * 3 = 9\n",
            "3 * 4 = 12\n",
            "3 * 5 = 15\n",
            "3 * 6 = 18\n",
            "3 * 7 = 21\n",
            "3 * 8 = 24\n",
            "3 * 9 = 27\n",
            "3 * 10 = 30\n",
            "\n",
            "**** Tabla del  2  ****\n",
            "2 * 1 = 2\n",
            "2 * 2 = 4\n",
            "2 * 3 = 6\n",
            "2 * 4 = 8\n",
            "2 * 5 = 10\n",
            "2 * 6 = 12\n",
            "2 * 7 = 14\n",
            "2 * 8 = 16\n",
            "2 * 9 = 18\n",
            "2 * 10 = 20\n",
            "\n",
            "**** Tabla del  1  ****\n",
            "1 * 1 = 1\n",
            "1 * 2 = 2\n",
            "1 * 3 = 3\n",
            "1 * 4 = 4\n",
            "1 * 5 = 5\n",
            "1 * 6 = 6\n",
            "1 * 7 = 7\n",
            "1 * 8 = 8\n",
            "1 * 9 = 9\n",
            "1 * 10 = 10\n",
            "\n"
          ]
        }
      ]
    },
    {
      "cell_type": "code",
      "source": [
        "num = 1\n",
        "while num <= 10 :\n",
        "    print(num)\n",
        "    num += 1\n",
        "print(\"--------  FIN -------\")\n",
        "\n",
        "# recorrer la coleccion\n",
        "nombres = [\"Luis\", \"Jorge\", \"Maria\", \"Laura\", \"Pedro\"]\n",
        "i = 0\n",
        "while i < len(nombres):\n",
        "    print(nombres[i])\n",
        "    i += 1\n",
        "print(\"--------  FIN -------\")"
      ],
      "metadata": {
        "colab": {
          "base_uri": "https://localhost:8080/"
        },
        "id": "tNlqWyxm8Q7c",
        "outputId": "0128dc5f-18bf-425e-bda9-3ac03af8756a"
      },
      "execution_count": 58,
      "outputs": [
        {
          "output_type": "stream",
          "name": "stdout",
          "text": [
            "1\n",
            "2\n",
            "3\n",
            "4\n",
            "5\n",
            "6\n",
            "7\n",
            "8\n",
            "9\n",
            "10\n",
            "--------  FIN -------\n",
            "Luis\n",
            "Jorge\n",
            "Maria\n",
            "Laura\n",
            "Pedro\n",
            "--------  FIN -------\n"
          ]
        }
      ]
    },
    {
      "cell_type": "markdown",
      "source": [
        "EJERCICIO 1: \n",
        "\n",
        "Calcular los 50 primeros terminos de la serie de Fibonacci 0 1 1 2 3 5 8 13 ...\n",
        "\n",
        "EJERCICIO 2: \n",
        "\n",
        "Solicitar la contraseña al usuario hasta que acierte que es curso. Solo tiene 3 intentos"
      ],
      "metadata": {
        "id": "YKl2x_Zd9BFy"
      }
    }
  ]
}
