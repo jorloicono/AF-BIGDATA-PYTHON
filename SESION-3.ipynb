{
  "nbformat": 4,
  "nbformat_minor": 0,
  "metadata": {
    "colab": {
      "provenance": [],
      "authorship_tag": "ABX9TyPJZ3OQwLbKPBkRe8hnwKMJ",
      "include_colab_link": true
    },
    "kernelspec": {
      "name": "python3",
      "display_name": "Python 3"
    },
    "language_info": {
      "name": "python"
    }
  },
  "cells": [
    {
      "cell_type": "markdown",
      "metadata": {
        "id": "view-in-github",
        "colab_type": "text"
      },
      "source": [
        "<a href=\"https://colab.research.google.com/github/jorloicono/AF-BIGDATA-PYTHON/blob/main/PR%C3%81CTICAS/PYTHON/SESION-3.ipynb\" target=\"_parent\"><img src=\"https://colab.research.google.com/assets/colab-badge.svg\" alt=\"Open In Colab\"/></a>"
      ]
    },
    {
      "cell_type": "markdown",
      "source": [
        "FUNCIONES LAMBDA"
      ],
      "metadata": {
        "id": "mS4zpKbtDMv1"
      }
    },
    {
      "cell_type": "code",
      "execution_count": null,
      "metadata": {
        "colab": {
          "base_uri": "https://localhost:8080/"
        },
        "id": "hHts_plXC55v",
        "outputId": "09f56bed-bfb3-4417-ffe3-90bffcb3b0fb"
      },
      "outputs": [
        {
          "output_type": "execute_result",
          "data": {
            "text/plain": [
              "9"
            ]
          },
          "metadata": {},
          "execution_count": 2
        }
      ],
      "source": [
        "def suma(a,b):\n",
        "  return a+b\n",
        "\n",
        "sumar = lambda a,b : a + b\n",
        "\n",
        "suma(2,3)\n",
        "sumar(2,3)\n",
        "\n",
        "(lambda a,b : a + b)(4,5)"
      ]
    },
    {
      "cell_type": "code",
      "source": [
        "(lambda *args: sum(args))(1,2,3,2,1)\n",
        "\n",
        "(lambda **kwargs: sum(kwargs.values()))(a=1, b=2,c=3)"
      ],
      "metadata": {
        "colab": {
          "base_uri": "https://localhost:8080/"
        },
        "id": "gOlMxAaJEKqB",
        "outputId": "8e642912-6c0c-41ca-faec-71b77462f1fb"
      },
      "execution_count": null,
      "outputs": [
        {
          "output_type": "execute_result",
          "data": {
            "text/plain": [
              "6"
            ]
          },
          "metadata": {},
          "execution_count": 4
        }
      ]
    },
    {
      "cell_type": "code",
      "source": [
        "numeros = [3,8,4,2,1]\n",
        "numerosdobles = list(map(lambda numero: numero*2, numeros))\n",
        "print(numerosdobles)\n",
        "\n",
        "alumnos = dict(Luis=8, Maria=9, Raul=7)\n",
        "nuevasnotas = dict(map(lambda item: (item[0],item[1]+ 1), alumnos.items()))\n",
        "print(nuevasnotas)\n",
        "\n"
      ],
      "metadata": {
        "colab": {
          "base_uri": "https://localhost:8080/"
        },
        "id": "8MprupyNE7zK",
        "outputId": "ba96ec74-1534-4dae-c6e0-2036a369f60d"
      },
      "execution_count": null,
      "outputs": [
        {
          "output_type": "stream",
          "name": "stdout",
          "text": [
            "[6, 16, 8, 4, 2]\n",
            "{'Luis': 9, 'Maria': 10, 'Raul': 8}\n"
          ]
        }
      ]
    },
    {
      "cell_type": "code",
      "source": [
        "numeros = [2,4,3,2,1,6,7]\n",
        "numerospares = list(filter(lambda numero: numero%2 == 0, numeros))\n",
        "print(numerospares)\n",
        "\n",
        "alumnos = dict(Luis=8, Maria=9, Raul=7)\n",
        "menosdeocho = dict(filter(lambda item: item[1]<8, alumnos.items()))\n",
        "print(menosdeocho)\n",
        "\n"
      ],
      "metadata": {
        "colab": {
          "base_uri": "https://localhost:8080/"
        },
        "id": "BR8K19b4FYRE",
        "outputId": "67ab3312-3c1c-4a75-ad00-aab8dfc4ff03"
      },
      "execution_count": null,
      "outputs": [
        {
          "output_type": "stream",
          "name": "stdout",
          "text": [
            "[2, 4, 2, 6]\n",
            "{'Raul': 7}\n"
          ]
        }
      ]
    },
    {
      "cell_type": "code",
      "source": [
        "from functools import reduce \n",
        "\n",
        "numeros = [3,4,2,1,3,4]\n",
        "print(\"Suma: \", reduce(lambda resultado, num: resultado + num,numeros))\n",
        "\n",
        "\n",
        "colores = ['rojo', 'verde', 'azul']\n",
        "print(reduce(lambda resultado, color: resultado + \"-\" + color,colores))"
      ],
      "metadata": {
        "colab": {
          "base_uri": "https://localhost:8080/"
        },
        "id": "OezkQHTDFz_3",
        "outputId": "0c11a5bc-e49c-42da-c8c8-d966c4d69501"
      },
      "execution_count": null,
      "outputs": [
        {
          "output_type": "stream",
          "name": "stdout",
          "text": [
            "Suma:  17\n",
            "rojo-verde-azul\n"
          ]
        }
      ]
    },
    {
      "cell_type": "markdown",
      "source": [
        "\n",
        "\n",
        "Dada una lista de personas almacenadas en diccionarios:\n",
        "\n",
        "- Filtrar de acuerdo al sexo\n",
        "- Y calcular la media de las edades\n",
        "\n"
      ],
      "metadata": {
        "id": "HHzr3ASXGWEH"
      }
    },
    {
      "cell_type": "code",
      "source": [
        "personas = [\n",
        "    {\"Nombre\": \"Jorge\", \"Edad\":23, \"Sexo\": \"H\"},\n",
        "    {\"Nombre\": \"Jorge\", \"Edad\":24, \"Sexo\": \"M\"},\n",
        "    {\"Nombre\": \"Jorge\", \"Edad\":25, \"Sexo\": \"H\"},\n",
        "    {\"Nombre\": \"Jorge\", \"Edad\":26, \"Sexo\": \"M\"}]\n",
        "\n",
        "Mujeres = list(filter(lambda x: x[\"Sexo\"] == \"M\", personas))\n",
        "Suma = reduce(lambda suma, p: suma + p[\"Edad\"], Mujeres,0)\n",
        "\n",
        "Media = Suma / len(Mujeres)\n",
        "\n",
        "print(Media)\n",
        "\n",
        "Media_edades = reduce(lambda suma,p: suma + p[\"Edad\"], list(filter(lambda x: x[\"Sexo\"] == \"M\", personas)),0)/len(list(filter(lambda x: x[\"Sexo\"] == \"M\", personas)))\n",
        "print(Media_edades)\n"
      ],
      "metadata": {
        "colab": {
          "base_uri": "https://localhost:8080/"
        },
        "id": "ez2E9hq6GYus",
        "outputId": "8634d29f-8792-440a-b8ab-b3c2dc615260"
      },
      "execution_count": null,
      "outputs": [
        {
          "output_type": "stream",
          "name": "stdout",
          "text": [
            "25.0\n",
            "25.0\n"
          ]
        }
      ]
    },
    {
      "cell_type": "markdown",
      "source": [
        "EJERCICIO 1: \n",
        "\n",
        "Utilizar la función incorporada map() para crear una función que retorne una lista con la longitud de cada palabra (separas por espacios) de una frase. La función recibe una cadena de texto y retornara una lista.\n",
        "\n",
        "EJERCICIO 2: \n",
        "\n",
        "Crear una función que tome una lista de dígitos y devuelva al número al que corresponden. Por ejemplo [1,2,3] corresponde a el numero ciento veintitrés (123). Utilizar la función reduce.\n",
        "\n",
        "EJERCICIO 3: \n",
        "\n",
        "Crear una función que retorne las palabras de una lista de palabras que comience con una letra en especifico. Utilizar la función filter."
      ],
      "metadata": {
        "id": "zzEACOQXIeFX"
      }
    },
    {
      "cell_type": "code",
      "source": [
        "def longitudpalabras(frase):\n",
        "  longitudes = list(map(len, frase.split()))\n",
        "  return longitudes\n",
        "\n",
        "longitudpalabras(\"Hola, que tal estas\")\n",
        "\n",
        "def digitosanumeros(digitos):\n",
        "  return reduce(lambda x,y:x*10 + y, digitos)\n",
        "\n",
        "digitosanumeros([1,2,3,4,5])\n",
        "\n",
        "# opcion 1\n",
        "def list_palabraFiltrada(frase,letra):\n",
        "    return list(filter(lambda palabra: palabra.lower()[0]==letra,frase.split()))\n",
        "print(list_palabraFiltrada('Pepe es político','p'))\n",
        "\n",
        "# opcion 2\n",
        "def filtro_palabras(lista_palabras, letra):\n",
        "    return list(filter(lambda word:word[0]==letra,lista_palabras))\n",
        "    \n",
        "filtro_palabras(['Perro', 'Gato', 'Pelota', 'Manzana', 'Libro', 'Python'], 'P')\n",
        "\n"
      ],
      "metadata": {
        "colab": {
          "base_uri": "https://localhost:8080/"
        },
        "id": "EKaYQ1MTIuzg",
        "outputId": "3fa12715-3aaa-4ca5-ed0e-13e2ed2153df"
      },
      "execution_count": null,
      "outputs": [
        {
          "output_type": "stream",
          "name": "stdout",
          "text": [
            "['Pepe', 'político']\n"
          ]
        },
        {
          "output_type": "execute_result",
          "data": {
            "text/plain": [
              "['Perro', 'Pelota', 'Python']"
            ]
          },
          "metadata": {},
          "execution_count": 18
        }
      ]
    },
    {
      "cell_type": "markdown",
      "source": [
        "EXTRA FUNCIONES"
      ],
      "metadata": {
        "id": "AZ19LyKcRqe9"
      }
    },
    {
      "cell_type": "code",
      "source": [
        "def suma(a: int , b: int ) -> int:\n",
        "  return a + b\n",
        "\n",
        "print(suma(3,4))\n",
        "print(suma.__annotations__)"
      ],
      "metadata": {
        "colab": {
          "base_uri": "https://localhost:8080/"
        },
        "id": "wPVngTgLRtDB",
        "outputId": "c65811fc-eae1-483a-fbe4-cf829db9fa7c"
      },
      "execution_count": null,
      "outputs": [
        {
          "output_type": "stream",
          "name": "stdout",
          "text": [
            "7\n",
            "{'a': <class 'int'>, 'b': <class 'int'>, 'return': <class 'int'>}\n"
          ]
        }
      ]
    },
    {
      "cell_type": "code",
      "source": [
        "def decorador(funcion):\n",
        "  def nueva_funcion(a,b):\n",
        "    print(\"Llamando a la función\")\n",
        "    c = funcion(a,b)\n",
        "    print(\"Función llamada\")\n",
        "    return c\n",
        "  return nueva_funcion\n",
        "\n",
        "@decorador\n",
        "def suma(a: int , b: int ) -> int:\n",
        "  return a + b\n",
        "\n",
        "print(suma(3,4))"
      ],
      "metadata": {
        "colab": {
          "base_uri": "https://localhost:8080/"
        },
        "id": "0yz3bo_uUJ1B",
        "outputId": "69552e8a-0552-443e-e7cf-f2ab16edfa41"
      },
      "execution_count": null,
      "outputs": [
        {
          "output_type": "stream",
          "name": "stdout",
          "text": [
            "Llamando a la función\n",
            "Función llamada\n",
            "Gracias por usar la función\n",
            "7\n"
          ]
        }
      ]
    },
    {
      "cell_type": "markdown",
      "source": [
        "GESTIÓN DE ERRORES"
      ],
      "metadata": {
        "id": "aXKrwY7OWiaw"
      }
    },
    {
      "cell_type": "code",
      "source": [
        "a=6\n",
        "b= 0\n",
        "if b != 0:\n",
        "  print(a + b)\n",
        "else: \n",
        "  print(\"No puedo dividir por 0!\")\n"
      ],
      "metadata": {
        "colab": {
          "base_uri": "https://localhost:8080/"
        },
        "id": "1XVfO1_MWlcf",
        "outputId": "9d92cedb-1535-47f6-b16e-55f7f071020e"
      },
      "execution_count": null,
      "outputs": [
        {
          "output_type": "stream",
          "name": "stdout",
          "text": [
            "No puedo dividir por 0!\n"
          ]
        }
      ]
    },
    {
      "cell_type": "code",
      "source": [
        "try:\n",
        "  #lista = [1,2,3,4]\n",
        "  #print(lista[4])\n",
        "  #c=5/0\n",
        "  #d=2+\"Hola\"\n",
        "  #e=9/9\n",
        "  dict={\"clave1\": \"valor1\", \"clave2\":\"valor2\"}\n",
        "  print(dict[\"clave3\"])\n",
        "except ZeroDivisionError:\n",
        "  print(\"No puedo dividir por 0!\")\n",
        "except Exception as ex:\n",
        "  print(\"Ha habido un error!\", type(ex))\n",
        "else : \n",
        "  print(\"El resultado es: \" + str(e))\n",
        "  print(\"Sin errores\")\n",
        "finally :\n",
        "  print(\"Programa finalizado\")\n"
      ],
      "metadata": {
        "colab": {
          "base_uri": "https://localhost:8080/"
        },
        "id": "uJ7hUBZVX9jM",
        "outputId": "e841caba-2341-47a0-91cd-b3ecade2faec"
      },
      "execution_count": null,
      "outputs": [
        {
          "output_type": "stream",
          "name": "stdout",
          "text": [
            "Ha habido un error! <class 'KeyError'>\n",
            "Programa finalizado\n"
          ]
        }
      ]
    },
    {
      "cell_type": "markdown",
      "source": [
        "BASES DE DATOS"
      ],
      "metadata": {
        "id": "gtY5UK-akD1g"
      }
    },
    {
      "cell_type": "code",
      "source": [
        "import sqlite3\n",
        "\n",
        "conexion = sqlite3.connect(\"/content/tienda2.db\")\n",
        "\n",
        "cursor = conexion.cursor()\n",
        "\n",
        "cursor.execute(\"CREATE TABLE PRODUCTOS (codigo INTEGER PRIMARY KEY, descripcion TEXT, precio REAL)\")\n"
      ],
      "metadata": {
        "colab": {
          "base_uri": "https://localhost:8080/"
        },
        "id": "a15R4jMnkGBY",
        "outputId": "5569c94b-464a-42ee-c2e9-c58b85c6d42d"
      },
      "execution_count": null,
      "outputs": [
        {
          "output_type": "execute_result",
          "data": {
            "text/plain": [
              "<sqlite3.Cursor at 0x7f3fb222e8f0>"
            ]
          },
          "metadata": {},
          "execution_count": 55
        }
      ]
    },
    {
      "cell_type": "code",
      "source": [
        "## INSERTAR DATOS\n",
        "\n",
        "conexion = sqlite3.connect(\"/content/tienda2.db\")\n",
        "\n",
        "cursor = conexion.cursor()\n",
        "cursor.execute(\"INSERT INTO PRODUCTOS VALUES (1, 'Pantalla', 90)\")\n",
        "\n",
        "lista = [(2,\"Teclado\",30), (3, \"Impresora\", 40), (4, \"Raton\", 10)]\n",
        "sql = \"INSERT INTO PRODUCTOS values (?,?,?)\"\n",
        "\n",
        "cursor.executemany(sql,lista)\n",
        "\n",
        "conexion.commit()"
      ],
      "metadata": {
        "id": "kpA76_B_ntG-"
      },
      "execution_count": null,
      "outputs": []
    },
    {
      "cell_type": "code",
      "source": [
        "## CONSULTAS\n",
        "\n",
        "cursor.execute(\"SELECT * FROM PRODUCTOS\")\n",
        "productos = cursor.fetchall()\n",
        "for prod in productos:\n",
        "  print(prod)"
      ],
      "metadata": {
        "colab": {
          "base_uri": "https://localhost:8080/"
        },
        "id": "WLCMZ43dpM9S",
        "outputId": "6147c670-69f8-46d3-bddb-0e20c817ef98"
      },
      "execution_count": null,
      "outputs": [
        {
          "output_type": "stream",
          "name": "stdout",
          "text": [
            "(1, 'Pantalla', 90.0)\n",
            "(2, 'Teclado', 30.0)\n",
            "(3, 'Impresora', 40.0)\n",
            "(4, 'Raton', 10.0)\n"
          ]
        }
      ]
    },
    {
      "cell_type": "code",
      "source": [
        "cursor.execute(\"SELECT * FROM PRODUCTOS WHERE precio < 50 ORDER BY precio DESC\")\n",
        "productos = cursor.fetchall()\n",
        "for prod in productos:\n",
        "  print(prod)"
      ],
      "metadata": {
        "colab": {
          "base_uri": "https://localhost:8080/"
        },
        "id": "wx3b3GWEqyRF",
        "outputId": "a378d440-a540-408e-e5a3-56e2e6a72993"
      },
      "execution_count": null,
      "outputs": [
        {
          "output_type": "stream",
          "name": "stdout",
          "text": [
            "(3, 'Impresora', 40.0)\n",
            "(2, 'Teclado', 30.0)\n",
            "(4, 'Raton', 10.0)\n"
          ]
        }
      ]
    },
    {
      "cell_type": "code",
      "source": [
        "cursor.execute(\"SELECT DESCRIPCION FROM PRODUCTOS WHERE DESCRIPCION LIKE 'R%' \")\n",
        "productos = cursor.fetchall()\n",
        "for prod in productos:\n",
        "  print(prod)"
      ],
      "metadata": {
        "colab": {
          "base_uri": "https://localhost:8080/"
        },
        "id": "9-xAMUe_q-US",
        "outputId": "27d895b8-8833-4e52-f535-f0c5d14fa1b3"
      },
      "execution_count": null,
      "outputs": [
        {
          "output_type": "stream",
          "name": "stdout",
          "text": [
            "('Raton',)\n"
          ]
        }
      ]
    },
    {
      "cell_type": "code",
      "source": [
        "cursor.execute(\"UPDATE PRODUCTOS SET precio = 100 WHERE descripcion = 'Impresora' \")\n",
        "\n",
        "cursor.execute(\"DELETE FROM PRODUCTOS WHERE codigo = 1\")\n",
        "\n",
        "conexion.commit()"
      ],
      "metadata": {
        "id": "4ZbpXsGYrOvX"
      },
      "execution_count": null,
      "outputs": []
    },
    {
      "cell_type": "code",
      "source": [
        "cursor.execute(\"SELECT * FROM PRODUCTOS\")\n",
        "productos = cursor.fetchall()\n",
        "for prod in productos:\n",
        "  print(prod)"
      ],
      "metadata": {
        "colab": {
          "base_uri": "https://localhost:8080/"
        },
        "id": "dXGRgrdErj9K",
        "outputId": "6e7a0558-a3df-41cb-d714-94e9ba1342e2"
      },
      "execution_count": null,
      "outputs": [
        {
          "output_type": "stream",
          "name": "stdout",
          "text": [
            "(2, 'Teclado', 30.0)\n",
            "(3, 'Impresora', 100.0)\n",
            "(4, 'Raton', 10.0)\n"
          ]
        }
      ]
    },
    {
      "cell_type": "code",
      "source": [
        "conexion.close()"
      ],
      "metadata": {
        "id": "8eRdkFoqrmQp"
      },
      "execution_count": null,
      "outputs": []
    },
    {
      "cell_type": "code",
      "source": [
        "##ORACLE\n",
        "\n",
        "import cx_Oracle"
      ],
      "metadata": {
        "id": "Y9b9dXrFsEfW"
      },
      "execution_count": null,
      "outputs": []
    },
    {
      "cell_type": "markdown",
      "source": [
        "MÓDULOS"
      ],
      "metadata": {
        "id": "V-XxMeUCuKrR"
      }
    },
    {
      "cell_type": "code",
      "source": [
        "import persona  \n",
        "\n",
        "p1 = persona.Persona(\"Juan\", 27)\n",
        "p1.mostrarInfo()\n"
      ],
      "metadata": {
        "colab": {
          "base_uri": "https://localhost:8080/"
        },
        "id": "Ecl39hlauNS-",
        "outputId": "c40f4954-ee22-4cc1-fe02-d55dd87b4a77"
      },
      "execution_count": null,
      "outputs": [
        {
          "output_type": "stream",
          "name": "stdout",
          "text": [
            "Hola, me llamo Juan y tengo 27 años\n"
          ]
        }
      ]
    },
    {
      "cell_type": "code",
      "source": [
        "from persona import Persona\n",
        "p2=Persona(\"Juan\",27)\n",
        "p2.mostrarInfo()"
      ],
      "metadata": {
        "colab": {
          "base_uri": "https://localhost:8080/"
        },
        "id": "53-yARizunZJ",
        "outputId": "2cfbe653-2f7d-4b31-9d53-f05c425462cf"
      },
      "execution_count": null,
      "outputs": [
        {
          "output_type": "stream",
          "name": "stdout",
          "text": [
            "Hola, me llamo Juan y tengo 27 años\n"
          ]
        }
      ]
    },
    {
      "cell_type": "code",
      "source": [
        "from persona import Persona as P\n",
        "p3 = P(\"Juan\",29)\n",
        "p3.mostrarInfo()"
      ],
      "metadata": {
        "colab": {
          "base_uri": "https://localhost:8080/"
        },
        "id": "1LbPegDAuzAr",
        "outputId": "6f77dc40-42ca-4518-8c12-708288f51459"
      },
      "execution_count": null,
      "outputs": [
        {
          "output_type": "stream",
          "name": "stdout",
          "text": [
            "Hola, me llamo Juan y tengo 29 años\n"
          ]
        }
      ]
    },
    {
      "cell_type": "markdown",
      "source": [
        "EJERCICIO 1: \n",
        "\n",
        "Crea el siguiente módulo:\n",
        "\n",
        "- El módulo se denominará operaciones.py y contendrá 4 funciones para realizar una suma, una resta, un producto y una division entres dos números. Todas ellas devolverán el resultado.\n",
        "\n",
        "- En las funciones del módulo deberá de haber tratamiento e invocación manual de errores para evitar que se quede bloqueada una funcionalidad, eso incluye:\n",
        "\n",
        "  - TypeError: En caso de que se envíen valores a las funciones que no sean números. Además deberá aparecer un mensaje que informe Error: Tipo de dato no válido.\n",
        "\n",
        "  - ZeroDivisionError: En caso de realizar una división por cero. Además deberá aparecer un mensaje que informe Error: No es posible dividir entre cero.\n",
        "\n",
        "Una vez creado el módulo, crea un script calculos.py en el mismo directorio en el que deberás importar el módulo y realizar las siguientes instrucciones. "
      ],
      "metadata": {
        "id": "16MNqDvkztoq"
      }
    },
    {
      "cell_type": "code",
      "source": [
        "from operaciones import * \n",
        "\n",
        "a, b, c, d = (10, 5, 0, \"Hola\")\n",
        "\n",
        "print( \"{} + {} = {}\".format(a, b, suma(a, b) ) )\n",
        "print( \"{} - {} = {}\".format(b, d, restar(b, d) ) )\n",
        "print( \"{} * {} = {}\".format(b, b, multiplicar(b, b) ) ) \n",
        "print( \"{} / {} = {}\".format(a, c, dividir(a, c) ) )\n"
      ],
      "metadata": {
        "colab": {
          "base_uri": "https://localhost:8080/"
        },
        "id": "K6ij1Qw-z80j",
        "outputId": "d0d35c40-073e-4e19-ee96-e2083aa4af0d"
      },
      "execution_count": null,
      "outputs": [
        {
          "output_type": "stream",
          "name": "stdout",
          "text": [
            "Llamando a la función\n",
            "Función llamada\n",
            "Gracias por usar la función\n",
            "10 + 5 = 15\n",
            "Tipo de dato no válido\n",
            "5 - Hola = None\n",
            "5 * 5 = 25\n",
            "No es posible dividir entre cero\n",
            "10 / 0 = None\n"
          ]
        }
      ]
    },
    {
      "cell_type": "markdown",
      "source": [
        "PANDAS"
      ],
      "metadata": {
        "id": "Q7ISpkLK4cjB"
      }
    },
    {
      "cell_type": "code",
      "source": [
        "import pandas as pd\n",
        "\n",
        "data = [\"Juan\", \"Pedro\", \"Lucia\", \"Jesus\"]\n",
        "\n",
        "serie = pd.Series(data, dtype = \"string\")\n",
        "\n",
        "print(serie)\n",
        "\n",
        "print(serie.size)\n",
        "print(serie.index)"
      ],
      "metadata": {
        "colab": {
          "base_uri": "https://localhost:8080/"
        },
        "id": "srXEYD3E4d5n",
        "outputId": "b55fd65f-1d16-4d7a-b950-d0696aee9e69"
      },
      "execution_count": null,
      "outputs": [
        {
          "output_type": "stream",
          "name": "stdout",
          "text": [
            "0     Juan\n",
            "1    Pedro\n",
            "2    Lucia\n",
            "3    Jesus\n",
            "dtype: string\n",
            "4\n",
            "RangeIndex(start=0, stop=4, step=1)\n"
          ]
        }
      ]
    },
    {
      "cell_type": "code",
      "source": [
        "print(serie[2])\n",
        "\n",
        "serie = serie.apply(lambda nombre: nombre.upper())\n",
        "print(serie)\n",
        "\n",
        "serie = serie[(serie == \"PEDRO\") | (serie == \"JUAN\")]\n",
        "print(serie)"
      ],
      "metadata": {
        "colab": {
          "base_uri": "https://localhost:8080/"
        },
        "id": "iN2atMWg5rJa",
        "outputId": "b553556d-9d4d-489a-e23f-93abeccc74fc"
      },
      "execution_count": null,
      "outputs": [
        {
          "output_type": "stream",
          "name": "stdout",
          "text": [
            "Lucia\n",
            "0     JUAN\n",
            "1    PEDRO\n",
            "2    LUCIA\n",
            "3    JESUS\n",
            "dtype: object\n",
            "0     JUAN\n",
            "1    PEDRO\n",
            "dtype: object\n"
          ]
        }
      ]
    },
    {
      "cell_type": "code",
      "source": [
        "data = [[\"Juan\", 6],[\"Jose\", 8],[\"Luisa\", 9],[\"Julian\", 10]]\n",
        "\n",
        "columnas = [\"Nombre\", \"Nota\"]\n",
        "filas = list(range(4))\n",
        "\n",
        "df = pd.DataFrame(data, columns= columnas, index = filas)\n",
        "print(df)\n"
      ],
      "metadata": {
        "colab": {
          "base_uri": "https://localhost:8080/"
        },
        "id": "RP8fLylt7bjS",
        "outputId": "f9065592-e6cf-41b0-8b8c-504212f49ede"
      },
      "execution_count": null,
      "outputs": [
        {
          "output_type": "stream",
          "name": "stdout",
          "text": [
            "   Nombre  Nota\n",
            "0    Juan     6\n",
            "1    Jose     8\n",
            "2   Luisa     9\n",
            "3  Julian    10\n"
          ]
        }
      ]
    },
    {
      "cell_type": "code",
      "source": [
        "print(df.info)\n",
        "print(df.shape)\n",
        "print(df.size)\n",
        "print(df.columns)\n",
        "print(df.head(2))\n",
        "\n",
        "print(df.iloc[3,1])\n",
        "print(df.iloc[3])\n",
        "print(df[\"Nota\"])"
      ],
      "metadata": {
        "colab": {
          "base_uri": "https://localhost:8080/"
        },
        "id": "vFW8nj6e8NgG",
        "outputId": "049571fd-6ac9-4742-a0c0-131c8992fd7c"
      },
      "execution_count": null,
      "outputs": [
        {
          "output_type": "stream",
          "name": "stdout",
          "text": [
            "<bound method DataFrame.info of    Nombre  Nota\n",
            "0    Juan     6\n",
            "1    Jose     8\n",
            "2   Luisa     9\n",
            "3  Julian    10>\n",
            "(4, 2)\n",
            "8\n",
            "Index(['Nombre', 'Nota'], dtype='object')\n",
            "  Nombre  Nota\n",
            "0   Juan     6\n",
            "1   Jose     8\n",
            "10\n",
            "Nombre    Julian\n",
            "Nota          10\n",
            "Name: 3, dtype: object\n",
            "0     6\n",
            "1     8\n",
            "2     9\n",
            "3    10\n",
            "Name: Nota, dtype: int64\n"
          ]
        }
      ]
    },
    {
      "cell_type": "code",
      "source": [
        "resultado = ['bien', 'notable', 'notable', 'sobresaliente']\n",
        "df.insert(loc=2, column=\"Resultado\", value=resultado)\n",
        "print(df)\n",
        "\n",
        "# Añadir una fila\n",
        "data = [['Maria', 4.5, 'Suspenso'], ['Antonio', 8.9, 'Notable']]\n",
        "columnasNombres = ['Nombre','Nota','Resultado']\n",
        "filas = [0,1]\n",
        "\n",
        "otro_df = pd.DataFrame(data, columns=columnasNombres, index=filas)\n",
        "otro_df = df.append(otro_df, ignore_index=True)\n",
        "print(otro_df)\n",
        "\n",
        "print(otro_df.groupby('Resultado').count())\n"
      ],
      "metadata": {
        "colab": {
          "base_uri": "https://localhost:8080/"
        },
        "id": "kSPWT33i89xI",
        "outputId": "23ed5177-bf10-480d-ad6f-abb62d69f1b5"
      },
      "execution_count": null,
      "outputs": [
        {
          "output_type": "stream",
          "name": "stdout",
          "text": [
            "   Nombre  Nota      Resultado\n",
            "0    Juan     6           bien\n",
            "1    Jose     8        notable\n",
            "2   Luisa     9        notable\n",
            "3  Julian    10  sobresaliente\n",
            "    Nombre  Nota      Resultado\n",
            "0     Juan   6.0           bien\n",
            "1     Jose   8.0        notable\n",
            "2    Luisa   9.0        notable\n",
            "3   Julian  10.0  sobresaliente\n",
            "4    Maria   4.5       Suspenso\n",
            "5  Antonio   8.9        Notable\n",
            "               Nombre  Nota\n",
            "Resultado                  \n",
            "Notable             1     1\n",
            "Suspenso            1     1\n",
            "bien                1     1\n",
            "notable             2     2\n",
            "sobresaliente       1     1\n"
          ]
        }
      ]
    }
  ]
}
